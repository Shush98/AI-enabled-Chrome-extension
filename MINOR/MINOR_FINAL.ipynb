{
 "cells": [
  {
   "cell_type": "code",
   "execution_count": 27,
   "metadata": {
    "colab": {},
    "colab_type": "code",
    "id": "JzA0XMoRYiAF"
   },
   "outputs": [],
   "source": [
    "import pandas as pd\n",
    "import numpy as np\n",
    "import matplotlib.pyplot as plt\n",
    "import seaborn as sns\n",
    "import io"
   ]
  },
  {
   "cell_type": "code",
   "execution_count": 28,
   "metadata": {},
   "outputs": [
    {
     "name": "stdout",
     "output_type": "stream",
     "text": [
      "Requirement already satisfied: spacy in c:\\users\\shushant.ghosh\\anaconda3\\lib\\site-packages (2.3.2)\n",
      "Requirement already satisfied: setuptools in c:\\users\\shushant.ghosh\\anaconda3\\lib\\site-packages (from spacy) (49.2.0)\n",
      "Requirement already satisfied: numpy>=1.15.0 in c:\\users\\shushant.ghosh\\anaconda3\\lib\\site-packages (from spacy) (1.19.1)\n",
      "Requirement already satisfied: catalogue<1.1.0,>=0.0.7 in c:\\users\\shushant.ghosh\\anaconda3\\lib\\site-packages (from spacy) (1.0.0)\n",
      "Requirement already satisfied: requests<3.0.0,>=2.13.0 in c:\\users\\shushant.ghosh\\anaconda3\\lib\\site-packages (from spacy) (2.22.0)\n",
      "Requirement already satisfied: blis<0.5.0,>=0.4.0 in c:\\users\\shushant.ghosh\\anaconda3\\lib\\site-packages (from spacy) (0.4.1)\n",
      "Requirement already satisfied: preshed<3.1.0,>=3.0.2 in c:\\users\\shushant.ghosh\\anaconda3\\lib\\site-packages (from spacy) (3.0.3)\n",
      "Requirement already satisfied: tqdm<5.0.0,>=4.38.0 in c:\\users\\shushant.ghosh\\anaconda3\\lib\\site-packages (from spacy) (4.42.1)\n",
      "Requirement already satisfied: murmurhash<1.1.0,>=0.28.0 in c:\\users\\shushant.ghosh\\anaconda3\\lib\\site-packages (from spacy) (1.0.4)\n",
      "Requirement already satisfied: plac<1.2.0,>=0.9.6 in c:\\users\\shushant.ghosh\\anaconda3\\lib\\site-packages (from spacy) (1.1.3)\n",
      "Requirement already satisfied: wasabi<1.1.0,>=0.4.0 in c:\\users\\shushant.ghosh\\anaconda3\\lib\\site-packages (from spacy) (0.8.0)\n",
      "Requirement already satisfied: thinc==7.4.1 in c:\\users\\shushant.ghosh\\anaconda3\\lib\\site-packages (from spacy) (7.4.1)\n",
      "Requirement already satisfied: srsly<1.1.0,>=1.0.2 in c:\\users\\shushant.ghosh\\anaconda3\\lib\\site-packages (from spacy) (1.0.3)\n",
      "Requirement already satisfied: cymem<2.1.0,>=2.0.2 in c:\\users\\shushant.ghosh\\anaconda3\\lib\\site-packages (from spacy) (2.0.4)\n",
      "Requirement already satisfied: importlib-metadata>=0.20; python_version < \"3.8\" in c:\\users\\shushant.ghosh\\anaconda3\\lib\\site-packages (from catalogue<1.1.0,>=0.0.7->spacy) (1.5.0)\n",
      "Requirement already satisfied: idna<2.9,>=2.5 in c:\\users\\shushant.ghosh\\anaconda3\\lib\\site-packages (from requests<3.0.0,>=2.13.0->spacy) (2.8)\n",
      "Requirement already satisfied: chardet<3.1.0,>=3.0.2 in c:\\users\\shushant.ghosh\\anaconda3\\lib\\site-packages (from requests<3.0.0,>=2.13.0->spacy) (3.0.4)\n",
      "Requirement already satisfied: certifi>=2017.4.17 in c:\\users\\shushant.ghosh\\anaconda3\\lib\\site-packages (from requests<3.0.0,>=2.13.0->spacy) (2019.11.28)\n",
      "Requirement already satisfied: urllib3!=1.25.0,!=1.25.1,<1.26,>=1.21.1 in c:\\users\\shushant.ghosh\\anaconda3\\lib\\site-packages (from requests<3.0.0,>=2.13.0->spacy) (1.25.8)\n",
      "Requirement already satisfied: zipp>=0.5 in c:\\users\\shushant.ghosh\\anaconda3\\lib\\site-packages (from importlib-metadata>=0.20; python_version < \"3.8\"->catalogue<1.1.0,>=0.0.7->spacy) (2.2.0)\n",
      "Note: you may need to restart the kernel to use updated packages.\n"
     ]
    }
   ],
   "source": [
    "pip install spacy"
   ]
  },
  {
   "cell_type": "code",
   "execution_count": 29,
   "metadata": {},
   "outputs": [],
   "source": [
    "import spacy\n",
    "import nltk\n",
    "import numpy as np\n",
    "from sklearn.model_selection import train_test_split"
   ]
  },
  {
   "cell_type": "code",
   "execution_count": 30,
   "metadata": {
    "colab": {},
    "colab_type": "code",
    "id": "vPJhkXVfYiAT"
   },
   "outputs": [],
   "source": [
    "pd.set_option('display.max_rows', 1000)"
   ]
  },
  {
   "cell_type": "code",
   "execution_count": 31,
   "metadata": {
    "colab": {},
    "colab_type": "code",
    "id": "ZtAbK1xOYiAY",
    "outputId": "b704590c-a00a-439d-e05c-3f6873a5e075"
   },
   "outputs": [
    {
     "name": "stderr",
     "output_type": "stream",
     "text": [
      "[nltk_data] Downloading package stopwords to\n",
      "[nltk_data]     C:\\Users\\shushant.ghosh\\AppData\\Roaming\\nltk_data...\n",
      "[nltk_data]   Package stopwords is already up-to-date!\n",
      "[nltk_data] Downloading package vader_lexicon to\n",
      "[nltk_data]     C:\\Users\\shushant.ghosh\\AppData\\Roaming\\nltk_data...\n",
      "[nltk_data]   Package vader_lexicon is already up-to-date!\n",
      "[nltk_data] Downloading package punkt to\n",
      "[nltk_data]     C:\\Users\\shushant.ghosh\\AppData\\Roaming\\nltk_data...\n",
      "[nltk_data]   Package punkt is already up-to-date!\n",
      "[nltk_data] Downloading package averaged_perceptron_tagger to\n",
      "[nltk_data]     C:\\Users\\shushant.ghosh\\AppData\\Roaming\\nltk_data...\n",
      "[nltk_data]   Package averaged_perceptron_tagger is already up-to-\n",
      "[nltk_data]       date!\n"
     ]
    },
    {
     "data": {
      "text/plain": [
       "True"
      ]
     },
     "execution_count": 31,
     "metadata": {},
     "output_type": "execute_result"
    }
   ],
   "source": [
    "from nltk import FreqDist\n",
    "nltk.download('stopwords')\n",
    "nltk.download('vader_lexicon')\n",
    "nltk.download('punkt')\n",
    "nltk.download('averaged_perceptron_tagger')"
   ]
  },
  {
   "cell_type": "code",
   "execution_count": 32,
   "metadata": {},
   "outputs": [],
   "source": [
    "nlp = spacy.load('en_core_web_sm')"
   ]
  },
  {
   "cell_type": "code",
   "execution_count": 33,
   "metadata": {
    "colab": {},
    "colab_type": "code",
    "id": "SuKHzUU2YiAf",
    "outputId": "ab58ccfd-90e2-4957-86b8-651086dd81bf"
   },
   "outputs": [
    {
     "name": "stdout",
     "output_type": "stream",
     "text": [
      "Requirement already satisfied: autocorrect in c:\\users\\shushant.ghosh\\anaconda3\\lib\\site-packages (2.2.2)\n"
     ]
    }
   ],
   "source": [
    "!pip install autocorrect\n",
    "from autocorrect import Speller\n",
    "spell = Speller(lang='en')"
   ]
  },
  {
   "cell_type": "code",
   "execution_count": 34,
   "metadata": {
    "colab": {},
    "colab_type": "code",
    "id": "a7pVtXVcYiAl"
   },
   "outputs": [],
   "source": [
    "import re\n",
    "from nltk import word_tokenize\n",
    "from nltk.classify import NaiveBayesClassifier\n",
    "from nltk.sentiment import SentimentAnalyzer\n",
    "from nltk.sentiment.util import extract_unigram_feats, mark_negation"
   ]
  },
  {
   "cell_type": "code",
   "execution_count": 35,
   "metadata": {
    "colab": {},
    "colab_type": "code",
    "id": "uCuuZ6T3YiAq"
   },
   "outputs": [],
   "source": [
    "from nltk.sentiment.vader import SentimentIntensityAnalyzer\n",
    "sid = SentimentIntensityAnalyzer()"
   ]
  },
  {
   "cell_type": "code",
   "execution_count": 90,
   "metadata": {},
   "outputs": [],
   "source": [
    "import speech_recognition as sr"
   ]
  },
  {
   "cell_type": "code",
   "execution_count": 118,
   "metadata": {},
   "outputs": [],
   "source": [
    "filename = \"voice2.wav\""
   ]
  },
  {
   "cell_type": "code",
   "execution_count": 119,
   "metadata": {},
   "outputs": [],
   "source": [
    "r = sr.Recognizer()"
   ]
  },
  {
   "cell_type": "code",
   "execution_count": 126,
   "metadata": {},
   "outputs": [
    {
     "ename": "RequestError",
     "evalue": "missing PocketSphinx module: ensure that PocketSphinx is set up correctly.",
     "output_type": "error",
     "traceback": [
      "\u001b[1;31m---------------------------------------------------------------------------\u001b[0m",
      "\u001b[1;31mModuleNotFoundError\u001b[0m                       Traceback (most recent call last)",
      "\u001b[1;32m~\\anaconda3\\lib\\site-packages\\speech_recognition\\__init__.py\u001b[0m in \u001b[0;36mrecognize_sphinx\u001b[1;34m(self, audio_data, language, keyword_entries, grammar, show_all)\u001b[0m\n\u001b[0;32m    728\u001b[0m         \u001b[1;32mtry\u001b[0m\u001b[1;33m:\u001b[0m\u001b[1;33m\u001b[0m\u001b[1;33m\u001b[0m\u001b[0m\n\u001b[1;32m--> 729\u001b[1;33m             \u001b[1;32mfrom\u001b[0m \u001b[0mpocketsphinx\u001b[0m \u001b[1;32mimport\u001b[0m \u001b[0mpocketsphinx\u001b[0m\u001b[1;33m,\u001b[0m \u001b[0mJsgf\u001b[0m\u001b[1;33m,\u001b[0m \u001b[0mFsgModel\u001b[0m\u001b[1;33m\u001b[0m\u001b[1;33m\u001b[0m\u001b[0m\n\u001b[0m\u001b[0;32m    730\u001b[0m \u001b[1;33m\u001b[0m\u001b[0m\n",
      "\u001b[1;31mModuleNotFoundError\u001b[0m: No module named 'pocketsphinx'",
      "\nDuring handling of the above exception, another exception occurred:\n",
      "\u001b[1;31mRequestError\u001b[0m                              Traceback (most recent call last)",
      "\u001b[1;32m<ipython-input-126-a71499ff054d>\u001b[0m in \u001b[0;36m<module>\u001b[1;34m\u001b[0m\n\u001b[0;32m      3\u001b[0m     \u001b[0maudio_data\u001b[0m \u001b[1;33m=\u001b[0m \u001b[0mr\u001b[0m\u001b[1;33m.\u001b[0m\u001b[0mrecord\u001b[0m\u001b[1;33m(\u001b[0m\u001b[0msource\u001b[0m\u001b[1;33m)\u001b[0m\u001b[1;33m\u001b[0m\u001b[1;33m\u001b[0m\u001b[0m\n\u001b[0;32m      4\u001b[0m     \u001b[1;31m# recognize (convert from speech to text)\u001b[0m\u001b[1;33m\u001b[0m\u001b[1;33m\u001b[0m\u001b[1;33m\u001b[0m\u001b[0m\n\u001b[1;32m----> 5\u001b[1;33m     \u001b[0mtext\u001b[0m \u001b[1;33m=\u001b[0m \u001b[0mr\u001b[0m\u001b[1;33m.\u001b[0m\u001b[0mrecognize_sphinx\u001b[0m\u001b[1;33m(\u001b[0m\u001b[0maudio_data\u001b[0m\u001b[1;33m)\u001b[0m\u001b[1;33m\u001b[0m\u001b[1;33m\u001b[0m\u001b[0m\n\u001b[0m\u001b[0;32m      6\u001b[0m     \u001b[0mprint\u001b[0m\u001b[1;33m(\u001b[0m\u001b[0mtext\u001b[0m\u001b[1;33m)\u001b[0m\u001b[1;33m\u001b[0m\u001b[1;33m\u001b[0m\u001b[0m\n",
      "\u001b[1;32m~\\anaconda3\\lib\\site-packages\\speech_recognition\\__init__.py\u001b[0m in \u001b[0;36mrecognize_sphinx\u001b[1;34m(self, audio_data, language, keyword_entries, grammar, show_all)\u001b[0m\n\u001b[0;32m    730\u001b[0m \u001b[1;33m\u001b[0m\u001b[0m\n\u001b[0;32m    731\u001b[0m         \u001b[1;32mexcept\u001b[0m \u001b[0mImportError\u001b[0m\u001b[1;33m:\u001b[0m\u001b[1;33m\u001b[0m\u001b[1;33m\u001b[0m\u001b[0m\n\u001b[1;32m--> 732\u001b[1;33m             \u001b[1;32mraise\u001b[0m \u001b[0mRequestError\u001b[0m\u001b[1;33m(\u001b[0m\u001b[1;34m\"missing PocketSphinx module: ensure that PocketSphinx is set up correctly.\"\u001b[0m\u001b[1;33m)\u001b[0m\u001b[1;33m\u001b[0m\u001b[1;33m\u001b[0m\u001b[0m\n\u001b[0m\u001b[0;32m    733\u001b[0m         \u001b[1;32mexcept\u001b[0m \u001b[0mValueError\u001b[0m\u001b[1;33m:\u001b[0m\u001b[1;33m\u001b[0m\u001b[1;33m\u001b[0m\u001b[0m\n\u001b[0;32m    734\u001b[0m             \u001b[1;32mraise\u001b[0m \u001b[0mRequestError\u001b[0m\u001b[1;33m(\u001b[0m\u001b[1;34m\"bad PocketSphinx installation; try reinstalling PocketSphinx version 0.0.9 or better.\"\u001b[0m\u001b[1;33m)\u001b[0m\u001b[1;33m\u001b[0m\u001b[1;33m\u001b[0m\u001b[0m\n",
      "\u001b[1;31mRequestError\u001b[0m: missing PocketSphinx module: ensure that PocketSphinx is set up correctly."
     ]
    }
   ],
   "source": [
    "with sr.AudioFile(filename) as source:\n",
    "    # listen for the data (load audio to memory)\n",
    "    audio_data = r.record(source)\n",
    "    # recognize (convert from speech to text)\n",
    "    text = r.recognize_sphinx(audio_data)\n",
    "    print(text)"
   ]
  },
  {
   "cell_type": "code",
   "execution_count": 116,
   "metadata": {},
   "outputs": [
    {
     "name": "stderr",
     "output_type": "stream",
     "text": [
      "WARNING (theano.configdefaults): g++ not available, if using conda: `conda install m2w64-toolchain`\n",
      "C:\\Users\\shushant.ghosh\\anaconda3\\lib\\site-packages\\theano\\configdefaults.py:560: UserWarning: DeprecationWarning: there is no c++ compiler.This is deprecated and with Theano 0.11 a c++ compiler will be mandatory\n",
      "  warnings.warn(\"DeprecationWarning: there is no c++ compiler.\"\n",
      "WARNING (theano.configdefaults): g++ not detected ! Theano will be unable to execute optimized C-implementations (for both CPU and GPU) and will default to Python implementations. Performance will be severely degraded. To remove this warning, set Theano flags cxx to an empty string.\n",
      "WARNING (theano.tensor.blas): Using NumPy C-API based implementation for BLAS functions.\n"
     ]
    },
    {
     "ename": "AssertionError",
     "evalue": "Model None does not exist.",
     "output_type": "error",
     "traceback": [
      "\u001b[1;31m---------------------------------------------------------------------------\u001b[0m",
      "\u001b[1;31mAssertionError\u001b[0m                            Traceback (most recent call last)",
      "\u001b[1;32m<ipython-input-116-b04135e28c6f>\u001b[0m in \u001b[0;36m<module>\u001b[1;34m\u001b[0m\n\u001b[0;32m      1\u001b[0m \u001b[1;32mfrom\u001b[0m \u001b[0mpunctuator\u001b[0m \u001b[1;32mimport\u001b[0m \u001b[0mPunctuator\u001b[0m\u001b[1;33m\u001b[0m\u001b[1;33m\u001b[0m\u001b[0m\n\u001b[1;32m----> 2\u001b[1;33m \u001b[0mp\u001b[0m \u001b[1;33m=\u001b[0m \u001b[0mPunctuator\u001b[0m\u001b[1;33m(\u001b[0m\u001b[1;34m'model.pcl'\u001b[0m\u001b[1;33m)\u001b[0m\u001b[1;33m\u001b[0m\u001b[1;33m\u001b[0m\u001b[0m\n\u001b[0m\u001b[0;32m      3\u001b[0m \u001b[0mprint\u001b[0m\u001b[1;33m(\u001b[0m\u001b[0mp\u001b[0m\u001b[1;33m.\u001b[0m\u001b[0mpunctuate\u001b[0m\u001b[1;33m(\u001b[0m\u001b[0mtext\u001b[0m\u001b[1;33m)\u001b[0m\u001b[1;33m)\u001b[0m\u001b[1;33m\u001b[0m\u001b[1;33m\u001b[0m\u001b[0m\n",
      "\u001b[1;32m~\\anaconda3\\lib\\site-packages\\punctuator\\punc.py\u001b[0m in \u001b[0;36m__init__\u001b[1;34m(self, model_file, use_pauses)\u001b[0m\n\u001b[0;32m    177\u001b[0m \u001b[1;33m\u001b[0m\u001b[0m\n\u001b[0;32m    178\u001b[0m         \u001b[0mmodel_file\u001b[0m \u001b[1;33m=\u001b[0m \u001b[0mself\u001b[0m\u001b[1;33m.\u001b[0m\u001b[0mmodel_exists\u001b[0m\u001b[1;33m(\u001b[0m\u001b[0mmodel_file\u001b[0m\u001b[1;33m)\u001b[0m\u001b[1;33m\u001b[0m\u001b[1;33m\u001b[0m\u001b[0m\n\u001b[1;32m--> 179\u001b[1;33m         \u001b[1;32massert\u001b[0m \u001b[0mmodel_file\u001b[0m\u001b[1;33m,\u001b[0m \u001b[1;34m'Model %s does not exist.'\u001b[0m \u001b[1;33m%\u001b[0m \u001b[0mmodel_file\u001b[0m\u001b[1;33m\u001b[0m\u001b[1;33m\u001b[0m\u001b[0m\n\u001b[0m\u001b[0;32m    180\u001b[0m \u001b[1;33m\u001b[0m\u001b[0m\n\u001b[0;32m    181\u001b[0m         \u001b[0mself\u001b[0m\u001b[1;33m.\u001b[0m\u001b[0mmodel_file\u001b[0m \u001b[1;33m=\u001b[0m \u001b[0mmodel_file\u001b[0m\u001b[1;33m\u001b[0m\u001b[1;33m\u001b[0m\u001b[0m\n",
      "\u001b[1;31mAssertionError\u001b[0m: Model None does not exist."
     ]
    }
   ],
   "source": [
    "from punctuator import Punctuator\n",
    "p = Punctuator('model.pcl')\n",
    "print(p.punctuate(text))"
   ]
  },
  {
   "cell_type": "code",
   "execution_count": null,
   "metadata": {},
   "outputs": [],
   "source": []
  },
  {
   "cell_type": "code",
   "execution_count": 36,
   "metadata": {
    "colab": {},
    "colab_type": "code",
    "id": "I_gsf9wnYiAz"
   },
   "outputs": [],
   "source": [
    "DF=pd.read_csv(\"DF2.csv\")"
   ]
  },
  {
   "cell_type": "code",
   "execution_count": 37,
   "metadata": {
    "colab": {},
    "colab_type": "code",
    "id": "X1gZaKpoYiA2"
   },
   "outputs": [],
   "source": [
    "DF.drop(['Unnamed: 0'],axis=1,inplace=True)"
   ]
  },
  {
   "cell_type": "code",
   "execution_count": 38,
   "metadata": {
    "colab": {},
    "colab_type": "code",
    "id": "_udOtcVvYiA6"
   },
   "outputs": [],
   "source": [
    "DF=DF[['reviews.text','reviews.rating','id']]"
   ]
  },
  {
   "cell_type": "code",
   "execution_count": 39,
   "metadata": {
    "colab": {},
    "colab_type": "code",
    "id": "jJgnejjJYiA_",
    "outputId": "16881f34-2e09-4116-95e8-15347b6ff0a1"
   },
   "outputs": [
    {
     "data": {
      "text/plain": [
       "(10964, 3)"
      ]
     },
     "execution_count": 39,
     "metadata": {},
     "output_type": "execute_result"
    }
   ],
   "source": [
    "DF.shape"
   ]
  },
  {
   "cell_type": "code",
   "execution_count": 101,
   "metadata": {},
   "outputs": [
    {
     "data": {
      "text/plain": [
       "'Good basic tablet for checking email , web browsing , and reading ebooks.'"
      ]
     },
     "execution_count": 101,
     "metadata": {},
     "output_type": "execute_result"
    }
   ],
   "source": [
    "DF['reviews.text'][0]"
   ]
  },
  {
   "cell_type": "code",
   "execution_count": 100,
   "metadata": {
    "colab": {},
    "colab_type": "code",
    "id": "Ks5mQOGxYiBF",
    "outputId": "22dc2838-62cd-4ce9-f164-8cb417242258"
   },
   "outputs": [
    {
     "data": {
      "text/html": [
       "<div>\n",
       "<style scoped>\n",
       "    .dataframe tbody tr th:only-of-type {\n",
       "        vertical-align: middle;\n",
       "    }\n",
       "\n",
       "    .dataframe tbody tr th {\n",
       "        vertical-align: top;\n",
       "    }\n",
       "\n",
       "    .dataframe thead th {\n",
       "        text-align: right;\n",
       "    }\n",
       "</style>\n",
       "<table border=\"1\" class=\"dataframe\">\n",
       "  <thead>\n",
       "    <tr style=\"text-align: right;\">\n",
       "      <th></th>\n",
       "      <th>reviews.text</th>\n",
       "      <th>reviews.rating</th>\n",
       "      <th>id</th>\n",
       "      <th>nounsM1</th>\n",
       "      <th>nounsBigra</th>\n",
       "      <th>nounsTrigra</th>\n",
       "      <th>nounsM2</th>\n",
       "      <th>reviews.wordCount</th>\n",
       "      <th>aspect1.len</th>\n",
       "      <th>aspect2.len</th>\n",
       "      <th>...</th>\n",
       "      <th>Pos_Sc</th>\n",
       "      <th>Neg_Sc</th>\n",
       "      <th>PAs</th>\n",
       "      <th>NAs</th>\n",
       "      <th>NeuAs</th>\n",
       "      <th>SCORE</th>\n",
       "      <th>MAGNI</th>\n",
       "      <th>DELI</th>\n",
       "      <th>finalAspCount</th>\n",
       "      <th>rate</th>\n",
       "    </tr>\n",
       "  </thead>\n",
       "  <tbody>\n",
       "    <tr>\n",
       "      <th>0</th>\n",
       "      <td>Good basic tablet for checking email , web bro...</td>\n",
       "      <td>4</td>\n",
       "      <td>AVphgVaX1cnluZ0-DR74</td>\n",
       "      <td>[email, reading, ebook, web, tablet]</td>\n",
       "      <td>[tablet, email]</td>\n",
       "      <td>[tablet, tablet]</td>\n",
       "      <td>[tablet, email]</td>\n",
       "      <td>13</td>\n",
       "      <td>5</td>\n",
       "      <td>2</td>\n",
       "      <td>...</td>\n",
       "      <td>0.4404</td>\n",
       "      <td>0.0</td>\n",
       "      <td>2</td>\n",
       "      <td>0</td>\n",
       "      <td>2</td>\n",
       "      <td>0.4404</td>\n",
       "      <td>0.4404</td>\n",
       "      <td>0</td>\n",
       "      <td>4</td>\n",
       "      <td>5.000000</td>\n",
       "    </tr>\n",
       "    <tr>\n",
       "      <th>1</th>\n",
       "      <td>I love this tablet. It was a great buy. I woul...</td>\n",
       "      <td>5</td>\n",
       "      <td>AVphgVaX1cnluZ0-DR74</td>\n",
       "      <td>[buy, love, web, reader, surfing]</td>\n",
       "      <td>[buy, reader]</td>\n",
       "      <td>[tablet, i, web]</td>\n",
       "      <td>[i, buy, web, tablet, reader]</td>\n",
       "      <td>26</td>\n",
       "      <td>5</td>\n",
       "      <td>5</td>\n",
       "      <td>...</td>\n",
       "      <td>2.3271</td>\n",
       "      <td>0.0</td>\n",
       "      <td>5</td>\n",
       "      <td>0</td>\n",
       "      <td>0</td>\n",
       "      <td>2.8845</td>\n",
       "      <td>2.8845</td>\n",
       "      <td>0</td>\n",
       "      <td>5</td>\n",
       "      <td>4.613521</td>\n",
       "    </tr>\n",
       "    <tr>\n",
       "      <th>2</th>\n",
       "      <td>Brought my old tablet in to my local store, an...</td>\n",
       "      <td>5</td>\n",
       "      <td>AVphgVaX1cnluZ0-DR74</td>\n",
       "      <td>[use, love, price, tablet, store, firsdt]</td>\n",
       "      <td>[tablet, store, iit, price]</td>\n",
       "      <td>[i, i, tablet, tablet, tablet, price]</td>\n",
       "      <td>[i, price, tablet, store, iit]</td>\n",
       "      <td>46</td>\n",
       "      <td>6</td>\n",
       "      <td>5</td>\n",
       "      <td>...</td>\n",
       "      <td>0.8122</td>\n",
       "      <td>0.0</td>\n",
       "      <td>2</td>\n",
       "      <td>0</td>\n",
       "      <td>6</td>\n",
       "      <td>1.2710</td>\n",
       "      <td>1.2710</td>\n",
       "      <td>0</td>\n",
       "      <td>8</td>\n",
       "      <td>4.278049</td>\n",
       "    </tr>\n",
       "    <tr>\n",
       "      <th>3</th>\n",
       "      <td>Good Inexpensive tablet for someone that does ...</td>\n",
       "      <td>4</td>\n",
       "      <td>AVphgVaX1cnluZ0-DR74</td>\n",
       "      <td>[tablet]</td>\n",
       "      <td>[tablet]</td>\n",
       "      <td>[tablet, someone]</td>\n",
       "      <td>[tablet, someone]</td>\n",
       "      <td>12</td>\n",
       "      <td>1</td>\n",
       "      <td>2</td>\n",
       "      <td>...</td>\n",
       "      <td>0.4404</td>\n",
       "      <td>0.0</td>\n",
       "      <td>1</td>\n",
       "      <td>0</td>\n",
       "      <td>0</td>\n",
       "      <td>0.4404</td>\n",
       "      <td>0.4404</td>\n",
       "      <td>0</td>\n",
       "      <td>1</td>\n",
       "      <td>5.000000</td>\n",
       "    </tr>\n",
       "    <tr>\n",
       "      <th>4</th>\n",
       "      <td>I got this for my niece. I would say this prod...</td>\n",
       "      <td>4</td>\n",
       "      <td>AVphgVaX1cnluZ0-DR74</td>\n",
       "      <td>[kid, bank, product, game, play, video, break]</td>\n",
       "      <td>[i, product, product]</td>\n",
       "      <td>[i, product, product, bank]</td>\n",
       "      <td>[i, bank, product]</td>\n",
       "      <td>46</td>\n",
       "      <td>7</td>\n",
       "      <td>3</td>\n",
       "      <td>...</td>\n",
       "      <td>0.9649</td>\n",
       "      <td>0.0</td>\n",
       "      <td>2</td>\n",
       "      <td>0</td>\n",
       "      <td>3</td>\n",
       "      <td>0.9649</td>\n",
       "      <td>0.9649</td>\n",
       "      <td>0</td>\n",
       "      <td>5</td>\n",
       "      <td>5.000000</td>\n",
       "    </tr>\n",
       "  </tbody>\n",
       "</table>\n",
       "<p>5 rows × 23 columns</p>\n",
       "</div>"
      ],
      "text/plain": [
       "                                        reviews.text  reviews.rating  \\\n",
       "0  Good basic tablet for checking email , web bro...               4   \n",
       "1  I love this tablet. It was a great buy. I woul...               5   \n",
       "2  Brought my old tablet in to my local store, an...               5   \n",
       "3  Good Inexpensive tablet for someone that does ...               4   \n",
       "4  I got this for my niece. I would say this prod...               4   \n",
       "\n",
       "                     id                                         nounsM1  \\\n",
       "0  AVphgVaX1cnluZ0-DR74            [email, reading, ebook, web, tablet]   \n",
       "1  AVphgVaX1cnluZ0-DR74               [buy, love, web, reader, surfing]   \n",
       "2  AVphgVaX1cnluZ0-DR74       [use, love, price, tablet, store, firsdt]   \n",
       "3  AVphgVaX1cnluZ0-DR74                                        [tablet]   \n",
       "4  AVphgVaX1cnluZ0-DR74  [kid, bank, product, game, play, video, break]   \n",
       "\n",
       "                    nounsBigra                            nounsTrigra  \\\n",
       "0              [tablet, email]                       [tablet, tablet]   \n",
       "1                [buy, reader]                       [tablet, i, web]   \n",
       "2  [tablet, store, iit, price]  [i, i, tablet, tablet, tablet, price]   \n",
       "3                     [tablet]                      [tablet, someone]   \n",
       "4        [i, product, product]            [i, product, product, bank]   \n",
       "\n",
       "                          nounsM2  reviews.wordCount  aspect1.len  \\\n",
       "0                 [tablet, email]                 13            5   \n",
       "1   [i, buy, web, tablet, reader]                 26            5   \n",
       "2  [i, price, tablet, store, iit]                 46            6   \n",
       "3               [tablet, someone]                 12            1   \n",
       "4              [i, bank, product]                 46            7   \n",
       "\n",
       "   aspect2.len  ...  Pos_Sc Neg_Sc PAs  NAs  NeuAs   SCORE   MAGNI  DELI  \\\n",
       "0            2  ...  0.4404    0.0   2    0      2  0.4404  0.4404     0   \n",
       "1            5  ...  2.3271    0.0   5    0      0  2.8845  2.8845     0   \n",
       "2            5  ...  0.8122    0.0   2    0      6  1.2710  1.2710     0   \n",
       "3            2  ...  0.4404    0.0   1    0      0  0.4404  0.4404     0   \n",
       "4            3  ...  0.9649    0.0   2    0      3  0.9649  0.9649     0   \n",
       "\n",
       "   finalAspCount      rate  \n",
       "0              4  5.000000  \n",
       "1              5  4.613521  \n",
       "2              8  4.278049  \n",
       "3              1  5.000000  \n",
       "4              5  5.000000  \n",
       "\n",
       "[5 rows x 23 columns]"
      ]
     },
     "execution_count": 100,
     "metadata": {},
     "output_type": "execute_result"
    }
   ],
   "source": [
    "DF.head()"
   ]
  },
  {
   "cell_type": "code",
   "execution_count": 41,
   "metadata": {
    "colab": {},
    "colab_type": "code",
    "id": "Naiaapj_YiBK"
   },
   "outputs": [],
   "source": [
    "# remove unwanted characters, numbers and symbols\n",
    "aspect =DF['reviews.text'].str.replace(\"[^a-zA-Z#]\", \" \")"
   ]
  },
  {
   "cell_type": "code",
   "execution_count": 42,
   "metadata": {
    "colab": {},
    "colab_type": "code",
    "id": "2c70xak-YiBO"
   },
   "outputs": [],
   "source": [
    "from nltk.corpus import stopwords\n",
    "stop_words = stopwords.words('english')"
   ]
  },
  {
   "cell_type": "code",
   "execution_count": 43,
   "metadata": {
    "colab": {},
    "colab_type": "code",
    "id": "6fiZbqsvYiBT"
   },
   "outputs": [],
   "source": [
    "# function to remove stopwords\n",
    "def remove_stopwords(rev):\n",
    "    rev_new = \" \".join([i for i in rev if i not in stop_words])\n",
    "    return rev_new\n",
    "\n",
    "# remove short words (length < 3)\n",
    "aspect = aspect.apply(lambda x: ' '.join([w for w in x.split() if len(w)>2]))\n",
    "\n",
    "# remove stopwords from the text\n",
    "reviews = [remove_stopwords(r.split()) for r in aspect]\n",
    "\n",
    "# make entire text lowercase\n",
    "reviews = [r.lower() for r in reviews]"
   ]
  },
  {
   "cell_type": "code",
   "execution_count": 44,
   "metadata": {
    "colab": {},
    "colab_type": "code",
    "id": "HS1KsEJ5YiBW"
   },
   "outputs": [],
   "source": [
    "# nlp = spacy.load('en', disable=['parser', 'ner'])\n",
    "\n",
    "def lemmatization(texts, tags=['NOUN']): # filter noun\n",
    "       output = []\n",
    "       for sent in texts:\n",
    "             doc = nlp(\" \".join(sent)) \n",
    "             output.append([token.lemma_ for token in doc if token.pos_ in tags])\n",
    "       return output"
   ]
  },
  {
   "cell_type": "code",
   "execution_count": 45,
   "metadata": {
    "colab": {},
    "colab_type": "code",
    "id": "NoAxe1EiYiBb"
   },
   "outputs": [],
   "source": [
    "tokenized_reviews = pd.Series(reviews).apply(lambda x: x.split())"
   ]
  },
  {
   "cell_type": "code",
   "execution_count": 46,
   "metadata": {},
   "outputs": [
    {
     "data": {
      "text/html": [
       "<div>\n",
       "<style scoped>\n",
       "    .dataframe tbody tr th:only-of-type {\n",
       "        vertical-align: middle;\n",
       "    }\n",
       "\n",
       "    .dataframe tbody tr th {\n",
       "        vertical-align: top;\n",
       "    }\n",
       "\n",
       "    .dataframe thead th {\n",
       "        text-align: right;\n",
       "    }\n",
       "</style>\n",
       "<table border=\"1\" class=\"dataframe\">\n",
       "  <thead>\n",
       "    <tr style=\"text-align: right;\">\n",
       "      <th></th>\n",
       "      <th>reviews.text</th>\n",
       "      <th>reviews.rating</th>\n",
       "      <th>id</th>\n",
       "    </tr>\n",
       "  </thead>\n",
       "  <tbody>\n",
       "    <tr>\n",
       "      <th>0</th>\n",
       "      <td>Good basic tablet for checking email , web bro...</td>\n",
       "      <td>4</td>\n",
       "      <td>AVphgVaX1cnluZ0-DR74</td>\n",
       "    </tr>\n",
       "    <tr>\n",
       "      <th>1</th>\n",
       "      <td>I love this tablet. It was a great buy. I woul...</td>\n",
       "      <td>5</td>\n",
       "      <td>AVphgVaX1cnluZ0-DR74</td>\n",
       "    </tr>\n",
       "    <tr>\n",
       "      <th>2</th>\n",
       "      <td>Brought my old tablet in to my local store, an...</td>\n",
       "      <td>5</td>\n",
       "      <td>AVphgVaX1cnluZ0-DR74</td>\n",
       "    </tr>\n",
       "    <tr>\n",
       "      <th>3</th>\n",
       "      <td>Good Inexpensive tablet for someone that does ...</td>\n",
       "      <td>4</td>\n",
       "      <td>AVphgVaX1cnluZ0-DR74</td>\n",
       "    </tr>\n",
       "    <tr>\n",
       "      <th>4</th>\n",
       "      <td>I got this for my niece. I would say this prod...</td>\n",
       "      <td>4</td>\n",
       "      <td>AVphgVaX1cnluZ0-DR74</td>\n",
       "    </tr>\n",
       "  </tbody>\n",
       "</table>\n",
       "</div>"
      ],
      "text/plain": [
       "                                        reviews.text  reviews.rating  \\\n",
       "0  Good basic tablet for checking email , web bro...               4   \n",
       "1  I love this tablet. It was a great buy. I woul...               5   \n",
       "2  Brought my old tablet in to my local store, an...               5   \n",
       "3  Good Inexpensive tablet for someone that does ...               4   \n",
       "4  I got this for my niece. I would say this prod...               4   \n",
       "\n",
       "                     id  \n",
       "0  AVphgVaX1cnluZ0-DR74  \n",
       "1  AVphgVaX1cnluZ0-DR74  \n",
       "2  AVphgVaX1cnluZ0-DR74  \n",
       "3  AVphgVaX1cnluZ0-DR74  \n",
       "4  AVphgVaX1cnluZ0-DR74  "
      ]
     },
     "execution_count": 46,
     "metadata": {},
     "output_type": "execute_result"
    }
   ],
   "source": [
    "DF.head()"
   ]
  },
  {
   "cell_type": "code",
   "execution_count": 47,
   "metadata": {
    "colab": {},
    "colab_type": "code",
    "id": "QcXhQda8YiBe",
    "outputId": "419ee142-3fdf-4688-9640-f269454ade0b"
   },
   "outputs": [
    {
     "name": "stdout",
     "output_type": "stream",
     "text": [
      "['good', 'basic', 'tablet', 'checking', 'email', 'web', 'browsing', 'reading', 'ebooks']\n"
     ]
    }
   ],
   "source": [
    "print(tokenized_reviews[0])"
   ]
  },
  {
   "cell_type": "code",
   "execution_count": 48,
   "metadata": {
    "colab": {},
    "colab_type": "code",
    "id": "3w3WT0wkYiBp"
   },
   "outputs": [],
   "source": [
    "reviews_2 = lemmatization(tokenized_reviews)\n",
    "# print lemmatized review"
   ]
  },
  {
   "cell_type": "code",
   "execution_count": 49,
   "metadata": {
    "colab": {},
    "colab_type": "code",
    "id": "iLibZKo4YiBt",
    "outputId": "0eac83ac-496c-4436-f128-b06db201b751"
   },
   "outputs": [
    {
     "data": {
      "text/plain": [
       "['tablet', 'email', 'web', 'reading', 'ebook']"
      ]
     },
     "execution_count": 49,
     "metadata": {},
     "output_type": "execute_result"
    }
   ],
   "source": [
    "reviews_2[0]"
   ]
  },
  {
   "cell_type": "code",
   "execution_count": 50,
   "metadata": {
    "colab": {},
    "colab_type": "code",
    "id": "fnSTkZqVYiBy"
   },
   "outputs": [],
   "source": [
    " DF['nounsM1']=reviews_2"
   ]
  },
  {
   "cell_type": "code",
   "execution_count": 51,
   "metadata": {
    "colab": {},
    "colab_type": "code",
    "id": "L-TDX1VuYiB5"
   },
   "outputs": [],
   "source": [
    "DF['nounsBigra']=0"
   ]
  },
  {
   "cell_type": "code",
   "execution_count": 52,
   "metadata": {
    "colab": {},
    "colab_type": "code",
    "id": "x8XkEF9_YiB9"
   },
   "outputs": [],
   "source": [
    "DF['nounsTrigra']=0"
   ]
  },
  {
   "cell_type": "code",
   "execution_count": 53,
   "metadata": {
    "colab": {},
    "colab_type": "code",
    "id": "8mNyvV-aYiCB"
   },
   "outputs": [],
   "source": [
    "def IMPbigra(A):\n",
    "  Noun=[] \n",
    "  A=A.lower()\n",
    "  arr=re.split(' and | but | or |\\\\.|\\\\,',A)\n",
    "  for line in arr: \n",
    "    line=spell(line)\n",
    "    nt = nltk.word_tokenize(line)\n",
    "    POS=nltk.pos_tag(nt)\n",
    "    POS=set(POS)\n",
    "    DIC=dict(POS)\n",
    "    bigra=list(nltk.bigrams(nt))\n",
    "    for bi in bigra:\n",
    "      if(DIC[bi[0]] in ['JJ','JJR','JJS','RB','RBR','RBS','VB','VBD','VBG','VBN','VBP','VBZ'] and DIC[bi[1]] in ['NNP','NN']):\n",
    "        Noun.append(bi[1])\n",
    "      elif(DIC[bi[1]] in ['JJ','JJR','JJS','RB','RBR','RBS','VB','VBD','VBG','VBN','VBP','VBZ'] and DIC[bi[0]] in ['NNP','NN']):\n",
    "        Noun.append(bi[0])\n",
    "    \n",
    "  return Noun"
   ]
  },
  {
   "cell_type": "code",
   "execution_count": 54,
   "metadata": {
    "colab": {},
    "colab_type": "code",
    "id": "yE1vtJlbYiCI"
   },
   "outputs": [],
   "source": [
    "DF['nounsBigra']=DF['reviews.text'].apply(IMPbigra)"
   ]
  },
  {
   "cell_type": "code",
   "execution_count": 55,
   "metadata": {
    "colab": {},
    "colab_type": "code",
    "id": "-IlefVsDYiCP"
   },
   "outputs": [],
   "source": [
    "def IMPtrigra(A):\n",
    "  Noun=[] \n",
    "  A=A.lower()\n",
    "  arr=re.split(' and | but | or |\\\\.|\\\\,',A)\n",
    "  for line in arr: \n",
    "    line=spell(line)\n",
    "    nt = nltk.word_tokenize(line)\n",
    "    POS=nltk.pos_tag(nt)\n",
    "    POS=set(POS)\n",
    "    DIC=dict(POS)\n",
    "    trigra=list(nltk.trigrams(nt))\n",
    "    for tri in trigra:\n",
    "      if(DIC[tri[0]] in ['JJ','JJR','JJS','RB','RBR','RBS','VB','VBD','VBG','VBN','VBP','VBZ'] and DIC[tri[2]] in ['NNP','NN']):\n",
    "        Noun.append(tri[2])\n",
    "      elif(DIC[tri[2]] in ['JJ','JJR','JJS','RB','RBR','RBS','VB','VBD','VBG','VBN','VBP','VBZ'] and DIC[tri[0]] in ['NNP','NN']):\n",
    "        Noun.append(tri[0])\n",
    "  return Noun"
   ]
  },
  {
   "cell_type": "code",
   "execution_count": 56,
   "metadata": {
    "colab": {},
    "colab_type": "code",
    "id": "is58uNpBYiCV"
   },
   "outputs": [],
   "source": [
    "DF['nounsTrigra']=DF['reviews.text'].apply(IMPtrigra)"
   ]
  },
  {
   "cell_type": "code",
   "execution_count": 57,
   "metadata": {
    "colab": {},
    "colab_type": "code",
    "id": "3ASSKoNTYiCa"
   },
   "outputs": [],
   "source": [
    "DF['nounsM2']=DF['nounsBigra']+DF['nounsTrigra']"
   ]
  },
  {
   "cell_type": "code",
   "execution_count": null,
   "metadata": {},
   "outputs": [],
   "source": []
  },
  {
   "cell_type": "code",
   "execution_count": 58,
   "metadata": {
    "colab": {},
    "colab_type": "code",
    "id": "wnVPmVX_YiCd"
   },
   "outputs": [],
   "source": [
    "def toList(A):\n",
    "    A=list(set(A))\n",
    "    return A"
   ]
  },
  {
   "cell_type": "code",
   "execution_count": 59,
   "metadata": {
    "colab": {},
    "colab_type": "code",
    "id": "vkwwQ6M5YiCh"
   },
   "outputs": [],
   "source": [
    "DF['nounsM1']=DF['nounsM1'].apply(toList)\n",
    "DF['nounsM2']=DF['nounsM2'].apply(toList)"
   ]
  },
  {
   "cell_type": "code",
   "execution_count": 60,
   "metadata": {
    "colab": {},
    "colab_type": "code",
    "id": "PJIGmMjpYiCm"
   },
   "outputs": [],
   "source": [
    "def wordCount(A):\n",
    "    return len(A.split())\n",
    "DF['reviews.wordCount']=DF['reviews.text'].apply(wordCount)"
   ]
  },
  {
   "cell_type": "code",
   "execution_count": 61,
   "metadata": {
    "colab": {},
    "colab_type": "code",
    "id": "6T_UuF_OYiCr"
   },
   "outputs": [],
   "source": [
    "DF['aspect1.len']=DF['nounsM1'].apply(len)\n",
    "DF['aspect2.len']=DF['nounsM2'].apply(len)"
   ]
  },
  {
   "cell_type": "code",
   "execution_count": 62,
   "metadata": {
    "colab": {},
    "colab_type": "code",
    "id": "wzvCw_-SYiCv"
   },
   "outputs": [],
   "source": [
    "def commonAspect(A,B):\n",
    "    return list(set(A) & set(B))"
   ]
  },
  {
   "cell_type": "code",
   "execution_count": 63,
   "metadata": {
    "colab": {},
    "colab_type": "code",
    "id": "wHzXyWEgYiCz"
   },
   "outputs": [],
   "source": [
    "DF['M1.M2'] = DF.apply(lambda x: commonAspect(x['nounsM1'], x['nounsM2']), axis=1)"
   ]
  },
  {
   "cell_type": "code",
   "execution_count": 64,
   "metadata": {
    "colab": {},
    "colab_type": "code",
    "id": "NZLVlZ5fYiC4"
   },
   "outputs": [],
   "source": [
    "def TotalAspect(A,B):\n",
    "    return list(set(A + B))"
   ]
  },
  {
   "cell_type": "code",
   "execution_count": 65,
   "metadata": {
    "colab": {},
    "colab_type": "code",
    "id": "CIgDE0ElYiC8"
   },
   "outputs": [],
   "source": [
    "DF['M1+M2']=DF.apply(lambda x: TotalAspect(x['nounsM1'], x['nounsM2']), axis=1)"
   ]
  },
  {
   "cell_type": "code",
   "execution_count": 66,
   "metadata": {
    "colab": {},
    "colab_type": "code",
    "id": "YpzccknzYiDA"
   },
   "outputs": [],
   "source": [
    "def aspStop(A):\n",
    "  B=[]  \n",
    "  for i in A:\n",
    "    B.append(spell(i))\n",
    "  reviews = [remove_stopwords(B)]\n",
    "  reviews=reviews[0].split()\n",
    "  return reviews\n",
    "DF['M1+M2']=DF['M1+M2'].apply(aspStop)"
   ]
  },
  {
   "cell_type": "code",
   "execution_count": 67,
   "metadata": {
    "colab": {},
    "colab_type": "code",
    "id": "2CbdX1d7YiDE"
   },
   "outputs": [],
   "source": [
    "Rela=['father','mother','parent','son','kid','boy','girl','daughter','child','husband','wife','spouse','brother','sister','sibling','grandfather','grandmother','grandparents','grandson','granddaughter','toddler','thought','grandchild','uncle','aunt','nephew','niece','cousin','love','bang','someone']"
   ]
  },
  {
   "cell_type": "code",
   "execution_count": 68,
   "metadata": {
    "colab": {},
    "colab_type": "code",
    "id": "_7lye-D3YiDH"
   },
   "outputs": [],
   "source": [
    "def relaRemove(A):\n",
    "  for i in A:\n",
    "    if(i in Rela):\n",
    "      A.remove(i)\n",
    "  return A\n",
    "DF['M1+M2']=DF['M1+M2'].apply(relaRemove)"
   ]
  },
  {
   "cell_type": "code",
   "execution_count": 69,
   "metadata": {
    "colab": {},
    "colab_type": "code",
    "id": "ku5nPQ0XYiDM"
   },
   "outputs": [],
   "source": [
    "L=['delivery','shipping','package','packaging','shipment']"
   ]
  },
  {
   "cell_type": "code",
   "execution_count": 70,
   "metadata": {
    "colab": {},
    "colab_type": "code",
    "id": "YeWXbGZYYiDO",
    "outputId": "ac8b4d19-5802-49c0-f866-2ba49d892c01",
    "scrolled": true
   },
   "outputs": [
    {
     "data": {
      "text/html": [
       "<div>\n",
       "<style scoped>\n",
       "    .dataframe tbody tr th:only-of-type {\n",
       "        vertical-align: middle;\n",
       "    }\n",
       "\n",
       "    .dataframe tbody tr th {\n",
       "        vertical-align: top;\n",
       "    }\n",
       "\n",
       "    .dataframe thead th {\n",
       "        text-align: right;\n",
       "    }\n",
       "</style>\n",
       "<table border=\"1\" class=\"dataframe\">\n",
       "  <thead>\n",
       "    <tr style=\"text-align: right;\">\n",
       "      <th></th>\n",
       "      <th>reviews.text</th>\n",
       "      <th>reviews.rating</th>\n",
       "      <th>id</th>\n",
       "      <th>nounsM1</th>\n",
       "      <th>nounsBigra</th>\n",
       "      <th>nounsTrigra</th>\n",
       "      <th>nounsM2</th>\n",
       "      <th>reviews.wordCount</th>\n",
       "      <th>aspect1.len</th>\n",
       "      <th>aspect2.len</th>\n",
       "      <th>M1.M2</th>\n",
       "      <th>M1+M2</th>\n",
       "    </tr>\n",
       "  </thead>\n",
       "  <tbody>\n",
       "    <tr>\n",
       "      <th>0</th>\n",
       "      <td>Good basic tablet for checking email , web bro...</td>\n",
       "      <td>4</td>\n",
       "      <td>AVphgVaX1cnluZ0-DR74</td>\n",
       "      <td>[email, reading, ebook, web, tablet]</td>\n",
       "      <td>[tablet, email]</td>\n",
       "      <td>[tablet, tablet]</td>\n",
       "      <td>[tablet, email]</td>\n",
       "      <td>13</td>\n",
       "      <td>5</td>\n",
       "      <td>2</td>\n",
       "      <td>[tablet, email]</td>\n",
       "      <td>[email, reading, ebook, web, tablet]</td>\n",
       "    </tr>\n",
       "    <tr>\n",
       "      <th>1</th>\n",
       "      <td>I love this tablet. It was a great buy. I woul...</td>\n",
       "      <td>5</td>\n",
       "      <td>AVphgVaX1cnluZ0-DR74</td>\n",
       "      <td>[buy, love, web, reader, surfing]</td>\n",
       "      <td>[buy, reader]</td>\n",
       "      <td>[tablet, i, web]</td>\n",
       "      <td>[i, buy, web, tablet, reader]</td>\n",
       "      <td>26</td>\n",
       "      <td>5</td>\n",
       "      <td>5</td>\n",
       "      <td>[web, buy, reader]</td>\n",
       "      <td>[buy, web, tablet, reader, surfing]</td>\n",
       "    </tr>\n",
       "    <tr>\n",
       "      <th>2</th>\n",
       "      <td>Brought my old tablet in to my local store, an...</td>\n",
       "      <td>5</td>\n",
       "      <td>AVphgVaX1cnluZ0-DR74</td>\n",
       "      <td>[use, love, price, tablet, store, firsdt]</td>\n",
       "      <td>[tablet, store, iit, price]</td>\n",
       "      <td>[i, i, tablet, tablet, tablet, price]</td>\n",
       "      <td>[i, price, tablet, store, iit]</td>\n",
       "      <td>46</td>\n",
       "      <td>6</td>\n",
       "      <td>5</td>\n",
       "      <td>[tablet, store, price]</td>\n",
       "      <td>[use, price, tablet, store, first, iit]</td>\n",
       "    </tr>\n",
       "    <tr>\n",
       "      <th>3</th>\n",
       "      <td>Good Inexpensive tablet for someone that does ...</td>\n",
       "      <td>4</td>\n",
       "      <td>AVphgVaX1cnluZ0-DR74</td>\n",
       "      <td>[tablet]</td>\n",
       "      <td>[tablet]</td>\n",
       "      <td>[tablet, someone]</td>\n",
       "      <td>[tablet, someone]</td>\n",
       "      <td>12</td>\n",
       "      <td>1</td>\n",
       "      <td>2</td>\n",
       "      <td>[tablet]</td>\n",
       "      <td>[tablet]</td>\n",
       "    </tr>\n",
       "    <tr>\n",
       "      <th>4</th>\n",
       "      <td>I got this for my niece. I would say this prod...</td>\n",
       "      <td>4</td>\n",
       "      <td>AVphgVaX1cnluZ0-DR74</td>\n",
       "      <td>[kid, bank, product, game, play, video, break]</td>\n",
       "      <td>[i, product, product]</td>\n",
       "      <td>[i, product, product, bank]</td>\n",
       "      <td>[i, bank, product]</td>\n",
       "      <td>46</td>\n",
       "      <td>7</td>\n",
       "      <td>3</td>\n",
       "      <td>[product, bank]</td>\n",
       "      <td>[bank, product, game, play, video, break]</td>\n",
       "    </tr>\n",
       "    <tr>\n",
       "      <th>5</th>\n",
       "      <td>A great product for my kids and great learning...</td>\n",
       "      <td>5</td>\n",
       "      <td>AVphgVaX1cnluZ0-DR74</td>\n",
       "      <td>[learning, product, app, store]</td>\n",
       "      <td>[product, apps]</td>\n",
       "      <td>[apps]</td>\n",
       "      <td>[product, apps]</td>\n",
       "      <td>14</td>\n",
       "      <td>4</td>\n",
       "      <td>2</td>\n",
       "      <td>[product]</td>\n",
       "      <td>[apps, product, learning, app, store]</td>\n",
       "    </tr>\n",
       "    <tr>\n",
       "      <th>6</th>\n",
       "      <td>Purchased for my toddler. Best investment yet....</td>\n",
       "      <td>5</td>\n",
       "      <td>AVphgVaX1cnluZ0-DR74</td>\n",
       "      <td>[investment, plan, purchase, protection, toddl...</td>\n",
       "      <td>[investment, investment]</td>\n",
       "      <td>[protection, purchase]</td>\n",
       "      <td>[investment, protection, purchase]</td>\n",
       "      <td>19</td>\n",
       "      <td>6</td>\n",
       "      <td>3</td>\n",
       "      <td>[investment, protection, purchase]</td>\n",
       "      <td>[investment, plan, purchase, protection, purpose]</td>\n",
       "    </tr>\n",
       "    <tr>\n",
       "      <th>7</th>\n",
       "      <td>Buying this device I thought it could replace ...</td>\n",
       "      <td>3</td>\n",
       "      <td>AVphgVaX1cnluZ0-DR74</td>\n",
       "      <td>[watch, use, kid, application, video, device, ...</td>\n",
       "      <td>[i, video]</td>\n",
       "      <td>[device, phone]</td>\n",
       "      <td>[video, i, device, phone]</td>\n",
       "      <td>37</td>\n",
       "      <td>8</td>\n",
       "      <td>4</td>\n",
       "      <td>[video, device, phone]</td>\n",
       "      <td>[watch, use, application, video, device, phone]</td>\n",
       "    </tr>\n",
       "    <tr>\n",
       "      <th>8</th>\n",
       "      <td>This is a great tablet for us seniors because ...</td>\n",
       "      <td>5</td>\n",
       "      <td>AVphgVaX1cnluZ0-DR74</td>\n",
       "      <td>[buy, use, batteryseem, eye, size, senior, tim...</td>\n",
       "      <td>[tablet, screen, size, tablet, tablet, time, buy]</td>\n",
       "      <td>[screen, size, tablet, tablet, batteryseems]</td>\n",
       "      <td>[buy, size, time, screen, tablet, batteryseems]</td>\n",
       "      <td>54</td>\n",
       "      <td>10</td>\n",
       "      <td>6</td>\n",
       "      <td>[buy, size, time, screen, tablet]</td>\n",
       "      <td>[buy, batteryseem, use, eye, size, senior, tim...</td>\n",
       "    </tr>\n",
       "    <tr>\n",
       "      <th>9</th>\n",
       "      <td>Nice tablet for the price. Got it for my son B...</td>\n",
       "      <td>5</td>\n",
       "      <td>AVphgVaX1cnluZ0-DR74</td>\n",
       "      <td>[kid, law, price, case, brother, tablet]</td>\n",
       "      <td>[tablet, law, tablet]</td>\n",
       "      <td>[case, case]</td>\n",
       "      <td>[tablet, case, law]</td>\n",
       "      <td>36</td>\n",
       "      <td>6</td>\n",
       "      <td>3</td>\n",
       "      <td>[tablet, case, law]</td>\n",
       "      <td>[price, law, case, tablet]</td>\n",
       "    </tr>\n",
       "  </tbody>\n",
       "</table>\n",
       "</div>"
      ],
      "text/plain": [
       "                                        reviews.text  reviews.rating  \\\n",
       "0  Good basic tablet for checking email , web bro...               4   \n",
       "1  I love this tablet. It was a great buy. I woul...               5   \n",
       "2  Brought my old tablet in to my local store, an...               5   \n",
       "3  Good Inexpensive tablet for someone that does ...               4   \n",
       "4  I got this for my niece. I would say this prod...               4   \n",
       "5  A great product for my kids and great learning...               5   \n",
       "6  Purchased for my toddler. Best investment yet....               5   \n",
       "7  Buying this device I thought it could replace ...               3   \n",
       "8  This is a great tablet for us seniors because ...               5   \n",
       "9  Nice tablet for the price. Got it for my son B...               5   \n",
       "\n",
       "                     id                                            nounsM1  \\\n",
       "0  AVphgVaX1cnluZ0-DR74               [email, reading, ebook, web, tablet]   \n",
       "1  AVphgVaX1cnluZ0-DR74                  [buy, love, web, reader, surfing]   \n",
       "2  AVphgVaX1cnluZ0-DR74          [use, love, price, tablet, store, firsdt]   \n",
       "3  AVphgVaX1cnluZ0-DR74                                           [tablet]   \n",
       "4  AVphgVaX1cnluZ0-DR74     [kid, bank, product, game, play, video, break]   \n",
       "5  AVphgVaX1cnluZ0-DR74                    [learning, product, app, store]   \n",
       "6  AVphgVaX1cnluZ0-DR74  [investment, plan, purchase, protection, toddl...   \n",
       "7  AVphgVaX1cnluZ0-DR74  [watch, use, kid, application, video, device, ...   \n",
       "8  AVphgVaX1cnluZ0-DR74  [buy, use, batteryseem, eye, size, senior, tim...   \n",
       "9  AVphgVaX1cnluZ0-DR74           [kid, law, price, case, brother, tablet]   \n",
       "\n",
       "                                          nounsBigra  \\\n",
       "0                                    [tablet, email]   \n",
       "1                                      [buy, reader]   \n",
       "2                        [tablet, store, iit, price]   \n",
       "3                                           [tablet]   \n",
       "4                              [i, product, product]   \n",
       "5                                    [product, apps]   \n",
       "6                           [investment, investment]   \n",
       "7                                         [i, video]   \n",
       "8  [tablet, screen, size, tablet, tablet, time, buy]   \n",
       "9                              [tablet, law, tablet]   \n",
       "\n",
       "                                    nounsTrigra  \\\n",
       "0                              [tablet, tablet]   \n",
       "1                              [tablet, i, web]   \n",
       "2         [i, i, tablet, tablet, tablet, price]   \n",
       "3                             [tablet, someone]   \n",
       "4                   [i, product, product, bank]   \n",
       "5                                        [apps]   \n",
       "6                        [protection, purchase]   \n",
       "7                               [device, phone]   \n",
       "8  [screen, size, tablet, tablet, batteryseems]   \n",
       "9                                  [case, case]   \n",
       "\n",
       "                                           nounsM2  reviews.wordCount  \\\n",
       "0                                  [tablet, email]                 13   \n",
       "1                    [i, buy, web, tablet, reader]                 26   \n",
       "2                   [i, price, tablet, store, iit]                 46   \n",
       "3                                [tablet, someone]                 12   \n",
       "4                               [i, bank, product]                 46   \n",
       "5                                  [product, apps]                 14   \n",
       "6               [investment, protection, purchase]                 19   \n",
       "7                        [video, i, device, phone]                 37   \n",
       "8  [buy, size, time, screen, tablet, batteryseems]                 54   \n",
       "9                              [tablet, case, law]                 36   \n",
       "\n",
       "   aspect1.len  aspect2.len                               M1.M2  \\\n",
       "0            5            2                     [tablet, email]   \n",
       "1            5            5                  [web, buy, reader]   \n",
       "2            6            5              [tablet, store, price]   \n",
       "3            1            2                            [tablet]   \n",
       "4            7            3                     [product, bank]   \n",
       "5            4            2                           [product]   \n",
       "6            6            3  [investment, protection, purchase]   \n",
       "7            8            4              [video, device, phone]   \n",
       "8           10            6   [buy, size, time, screen, tablet]   \n",
       "9            6            3                 [tablet, case, law]   \n",
       "\n",
       "                                               M1+M2  \n",
       "0               [email, reading, ebook, web, tablet]  \n",
       "1                [buy, web, tablet, reader, surfing]  \n",
       "2            [use, price, tablet, store, first, iit]  \n",
       "3                                           [tablet]  \n",
       "4          [bank, product, game, play, video, break]  \n",
       "5              [apps, product, learning, app, store]  \n",
       "6  [investment, plan, purchase, protection, purpose]  \n",
       "7    [watch, use, application, video, device, phone]  \n",
       "8  [buy, batteryseem, use, eye, size, senior, tim...  \n",
       "9                         [price, law, case, tablet]  "
      ]
     },
     "execution_count": 70,
     "metadata": {},
     "output_type": "execute_result"
    }
   ],
   "source": [
    "DF.head(10)"
   ]
  },
  {
   "cell_type": "code",
   "execution_count": 71,
   "metadata": {
    "colab": {},
    "colab_type": "code",
    "id": "4l49BhuaYiDT"
   },
   "outputs": [],
   "source": [
    "def SeptCol(text,asp):\n",
    "  MAGNI=0 \n",
    "  Pos_Sc=0\n",
    "  Neg_Sc=0\n",
    "  PAs=0\n",
    "  NAs=0\n",
    "  NeuAs=0\n",
    "  SCORE=0\n",
    "  Deli1=0\n",
    "  arr=re.split(' and | but | or |\\\\.|\\\\,',text)\n",
    "  for line in arr:\n",
    "    Deli=0    \n",
    "    flag=0\n",
    "    score=0   \n",
    "    aspCount=0\n",
    "    line=line.lower()\n",
    "    line=spell(line)\n",
    "    if((line.find(\"n't\")>=0) | (line.find(\"not\")>=0)):\n",
    "      for W in line.split():\n",
    "        if(flag==0):\n",
    "          if((W.find(\"n't\")>=0) | (W.find(\"not\")>=0)):\n",
    "            flag=1\n",
    "          else:\n",
    "            if(W in asp):\n",
    "              aspCount=aspCount+1 \n",
    "            if(W in L):\n",
    "              Deli=Deli+1  \n",
    "            score=score+sid.polarity_scores(W)['compound']\n",
    "        else:\n",
    "          if(W in asp):\n",
    "            aspCount=aspCount+1\n",
    "          if(W in L):\n",
    "              Deli=Deli+1  \n",
    "          score=score-sid.polarity_scores(W)['compound']\n",
    "          \n",
    "      if(aspCount>0):\n",
    "        if(score>0):\n",
    "          PAs=PAs+aspCount\n",
    "          Pos_Sc=Pos_Sc+score\n",
    "        elif(score<0):\n",
    "          NAs=NAs+aspCount\n",
    "          Neg_Sc=Neg_Sc+score\n",
    "        else:\n",
    "          NeuAs=NeuAs+aspCount\n",
    "      if(Deli>0):\n",
    "        if(score<0):\n",
    "          Deli1=1  \n",
    "      SCORE=SCORE+score  \n",
    "      MAGNI=MAGNI+abs(score)\n",
    "    else:\n",
    "      if(any(ele in line.split() for ele in L)):\n",
    "        Deli=Deli+1\n",
    "      for i in asp:\n",
    "        if(i in line.split()):\n",
    "          aspCount=aspCount+1  \n",
    "      score=sid.polarity_scores(line)['compound']\n",
    "      MAGNI=MAGNI+abs(sid.polarity_scores(line)['compound'])   \n",
    "      if(aspCount>0):\n",
    "        if(score>0):\n",
    "          PAs=PAs+aspCount\n",
    "          Pos_Sc=Pos_Sc+score\n",
    "        elif(score<0):\n",
    "          NAs=NAs+aspCount\n",
    "          Neg_Sc=Neg_Sc+score\n",
    "        else:\n",
    "          NeuAs=NeuAs+aspCount\n",
    "      if(Deli>0):\n",
    "        if(score<0):\n",
    "          Deli1=1  \n",
    "      SCORE=SCORE+score\n",
    "  RetList=[Pos_Sc,Neg_Sc,PAs,NAs,NeuAs,SCORE,MAGNI,Deli1]\n",
    "  return RetList            "
   ]
  },
  {
   "cell_type": "code",
   "execution_count": 72,
   "metadata": {
    "colab": {},
    "colab_type": "code",
    "id": "4vVnxo3XYiDW"
   },
   "outputs": [],
   "source": [
    "DF['SeptCol']=DF.apply(lambda x: SeptCol(x['reviews.text'], x['M1+M2']), axis=1)"
   ]
  },
  {
   "cell_type": "code",
   "execution_count": 73,
   "metadata": {
    "colab": {},
    "colab_type": "code",
    "id": "skMHbnJrYiDZ",
    "outputId": "06d416b2-d9f7-4a40-92f8-3ed07c89e3ff"
   },
   "outputs": [
    {
     "data": {
      "text/html": [
       "<div>\n",
       "<style scoped>\n",
       "    .dataframe tbody tr th:only-of-type {\n",
       "        vertical-align: middle;\n",
       "    }\n",
       "\n",
       "    .dataframe tbody tr th {\n",
       "        vertical-align: top;\n",
       "    }\n",
       "\n",
       "    .dataframe thead th {\n",
       "        text-align: right;\n",
       "    }\n",
       "</style>\n",
       "<table border=\"1\" class=\"dataframe\">\n",
       "  <thead>\n",
       "    <tr style=\"text-align: right;\">\n",
       "      <th></th>\n",
       "      <th>reviews.text</th>\n",
       "      <th>reviews.rating</th>\n",
       "      <th>id</th>\n",
       "      <th>nounsM1</th>\n",
       "      <th>nounsBigra</th>\n",
       "      <th>nounsTrigra</th>\n",
       "      <th>nounsM2</th>\n",
       "      <th>reviews.wordCount</th>\n",
       "      <th>aspect1.len</th>\n",
       "      <th>aspect2.len</th>\n",
       "      <th>M1.M2</th>\n",
       "      <th>M1+M2</th>\n",
       "      <th>SeptCol</th>\n",
       "    </tr>\n",
       "  </thead>\n",
       "  <tbody>\n",
       "    <tr>\n",
       "      <th>0</th>\n",
       "      <td>Good basic tablet for checking email , web bro...</td>\n",
       "      <td>4</td>\n",
       "      <td>AVphgVaX1cnluZ0-DR74</td>\n",
       "      <td>[email, reading, ebook, web, tablet]</td>\n",
       "      <td>[tablet, email]</td>\n",
       "      <td>[tablet, tablet]</td>\n",
       "      <td>[tablet, email]</td>\n",
       "      <td>13</td>\n",
       "      <td>5</td>\n",
       "      <td>2</td>\n",
       "      <td>[tablet, email]</td>\n",
       "      <td>[email, reading, ebook, web, tablet]</td>\n",
       "      <td>[0.4404, 0, 2, 0, 2, 0.4404, 0.4404, 0]</td>\n",
       "    </tr>\n",
       "    <tr>\n",
       "      <th>1</th>\n",
       "      <td>I love this tablet. It was a great buy. I woul...</td>\n",
       "      <td>5</td>\n",
       "      <td>AVphgVaX1cnluZ0-DR74</td>\n",
       "      <td>[buy, love, web, reader, surfing]</td>\n",
       "      <td>[buy, reader]</td>\n",
       "      <td>[tablet, i, web]</td>\n",
       "      <td>[i, buy, web, tablet, reader]</td>\n",
       "      <td>26</td>\n",
       "      <td>5</td>\n",
       "      <td>5</td>\n",
       "      <td>[web, buy, reader]</td>\n",
       "      <td>[buy, web, tablet, reader, surfing]</td>\n",
       "      <td>[2.3271, 0, 5, 0, 0, 2.8844999999999996, 2.884...</td>\n",
       "    </tr>\n",
       "    <tr>\n",
       "      <th>2</th>\n",
       "      <td>Brought my old tablet in to my local store, an...</td>\n",
       "      <td>5</td>\n",
       "      <td>AVphgVaX1cnluZ0-DR74</td>\n",
       "      <td>[use, love, price, tablet, store, firsdt]</td>\n",
       "      <td>[tablet, store, iit, price]</td>\n",
       "      <td>[i, i, tablet, tablet, tablet, price]</td>\n",
       "      <td>[i, price, tablet, store, iit]</td>\n",
       "      <td>46</td>\n",
       "      <td>6</td>\n",
       "      <td>5</td>\n",
       "      <td>[tablet, store, price]</td>\n",
       "      <td>[use, price, tablet, store, first, iit]</td>\n",
       "      <td>[0.8122, 0, 2, 0, 6, 1.271, 1.271, 0]</td>\n",
       "    </tr>\n",
       "    <tr>\n",
       "      <th>3</th>\n",
       "      <td>Good Inexpensive tablet for someone that does ...</td>\n",
       "      <td>4</td>\n",
       "      <td>AVphgVaX1cnluZ0-DR74</td>\n",
       "      <td>[tablet]</td>\n",
       "      <td>[tablet]</td>\n",
       "      <td>[tablet, someone]</td>\n",
       "      <td>[tablet, someone]</td>\n",
       "      <td>12</td>\n",
       "      <td>1</td>\n",
       "      <td>2</td>\n",
       "      <td>[tablet]</td>\n",
       "      <td>[tablet]</td>\n",
       "      <td>[0.4404, 0, 1, 0, 0, 0.4404, 0.4404, 0]</td>\n",
       "    </tr>\n",
       "    <tr>\n",
       "      <th>4</th>\n",
       "      <td>I got this for my niece. I would say this prod...</td>\n",
       "      <td>4</td>\n",
       "      <td>AVphgVaX1cnluZ0-DR74</td>\n",
       "      <td>[kid, bank, product, game, play, video, break]</td>\n",
       "      <td>[i, product, product]</td>\n",
       "      <td>[i, product, product, bank]</td>\n",
       "      <td>[i, bank, product]</td>\n",
       "      <td>46</td>\n",
       "      <td>7</td>\n",
       "      <td>3</td>\n",
       "      <td>[product, bank]</td>\n",
       "      <td>[bank, product, game, play, video, break]</td>\n",
       "      <td>[0.9649000000000001, 0, 2, 0, 3, 0.96490000000...</td>\n",
       "    </tr>\n",
       "  </tbody>\n",
       "</table>\n",
       "</div>"
      ],
      "text/plain": [
       "                                        reviews.text  reviews.rating  \\\n",
       "0  Good basic tablet for checking email , web bro...               4   \n",
       "1  I love this tablet. It was a great buy. I woul...               5   \n",
       "2  Brought my old tablet in to my local store, an...               5   \n",
       "3  Good Inexpensive tablet for someone that does ...               4   \n",
       "4  I got this for my niece. I would say this prod...               4   \n",
       "\n",
       "                     id                                         nounsM1  \\\n",
       "0  AVphgVaX1cnluZ0-DR74            [email, reading, ebook, web, tablet]   \n",
       "1  AVphgVaX1cnluZ0-DR74               [buy, love, web, reader, surfing]   \n",
       "2  AVphgVaX1cnluZ0-DR74       [use, love, price, tablet, store, firsdt]   \n",
       "3  AVphgVaX1cnluZ0-DR74                                        [tablet]   \n",
       "4  AVphgVaX1cnluZ0-DR74  [kid, bank, product, game, play, video, break]   \n",
       "\n",
       "                    nounsBigra                            nounsTrigra  \\\n",
       "0              [tablet, email]                       [tablet, tablet]   \n",
       "1                [buy, reader]                       [tablet, i, web]   \n",
       "2  [tablet, store, iit, price]  [i, i, tablet, tablet, tablet, price]   \n",
       "3                     [tablet]                      [tablet, someone]   \n",
       "4        [i, product, product]            [i, product, product, bank]   \n",
       "\n",
       "                          nounsM2  reviews.wordCount  aspect1.len  \\\n",
       "0                 [tablet, email]                 13            5   \n",
       "1   [i, buy, web, tablet, reader]                 26            5   \n",
       "2  [i, price, tablet, store, iit]                 46            6   \n",
       "3               [tablet, someone]                 12            1   \n",
       "4              [i, bank, product]                 46            7   \n",
       "\n",
       "   aspect2.len                   M1.M2  \\\n",
       "0            2         [tablet, email]   \n",
       "1            5      [web, buy, reader]   \n",
       "2            5  [tablet, store, price]   \n",
       "3            2                [tablet]   \n",
       "4            3         [product, bank]   \n",
       "\n",
       "                                       M1+M2  \\\n",
       "0       [email, reading, ebook, web, tablet]   \n",
       "1        [buy, web, tablet, reader, surfing]   \n",
       "2    [use, price, tablet, store, first, iit]   \n",
       "3                                   [tablet]   \n",
       "4  [bank, product, game, play, video, break]   \n",
       "\n",
       "                                             SeptCol  \n",
       "0            [0.4404, 0, 2, 0, 2, 0.4404, 0.4404, 0]  \n",
       "1  [2.3271, 0, 5, 0, 0, 2.8844999999999996, 2.884...  \n",
       "2              [0.8122, 0, 2, 0, 6, 1.271, 1.271, 0]  \n",
       "3            [0.4404, 0, 1, 0, 0, 0.4404, 0.4404, 0]  \n",
       "4  [0.9649000000000001, 0, 2, 0, 3, 0.96490000000...  "
      ]
     },
     "execution_count": 73,
     "metadata": {},
     "output_type": "execute_result"
    }
   ],
   "source": [
    "DF.head()"
   ]
  },
  {
   "cell_type": "code",
   "execution_count": 74,
   "metadata": {
    "colab": {},
    "colab_type": "code",
    "id": "KsmALtwrYiDg"
   },
   "outputs": [],
   "source": [
    "def splitCol(A,index):\n",
    "  return A[index]  "
   ]
  },
  {
   "cell_type": "code",
   "execution_count": 75,
   "metadata": {
    "colab": {},
    "colab_type": "code",
    "id": "VuYKQ51rYiDj"
   },
   "outputs": [],
   "source": [
    "DF['Pos_Sc']=DF.apply(lambda x: splitCol(x['SeptCol'], 0), axis=1)\n",
    "DF['Neg_Sc']=DF.apply(lambda x: splitCol(x['SeptCol'], 1), axis=1)\n",
    "DF['PAs']=DF.apply(lambda x: splitCol(x['SeptCol'], 2), axis=1)\n",
    "DF['NAs']=DF.apply(lambda x: splitCol(x['SeptCol'], 3), axis=1)\n",
    "DF['NeuAs']=DF.apply(lambda x: splitCol(x['SeptCol'], 4), axis=1)\n",
    "DF['SCORE']=DF.apply(lambda x: splitCol(x['SeptCol'], 5), axis=1)\n",
    "DF['MAGNI']=DF.apply(lambda x: splitCol(x['SeptCol'], 6), axis=1)\n",
    "DF['DELI']=DF.apply(lambda x: splitCol(x['SeptCol'], 7), axis=1)"
   ]
  },
  {
   "cell_type": "code",
   "execution_count": 76,
   "metadata": {},
   "outputs": [
    {
     "data": {
      "text/html": [
       "<div>\n",
       "<style scoped>\n",
       "    .dataframe tbody tr th:only-of-type {\n",
       "        vertical-align: middle;\n",
       "    }\n",
       "\n",
       "    .dataframe tbody tr th {\n",
       "        vertical-align: top;\n",
       "    }\n",
       "\n",
       "    .dataframe thead th {\n",
       "        text-align: right;\n",
       "    }\n",
       "</style>\n",
       "<table border=\"1\" class=\"dataframe\">\n",
       "  <thead>\n",
       "    <tr style=\"text-align: right;\">\n",
       "      <th></th>\n",
       "      <th>reviews.text</th>\n",
       "      <th>reviews.rating</th>\n",
       "      <th>id</th>\n",
       "      <th>nounsM1</th>\n",
       "      <th>nounsBigra</th>\n",
       "      <th>nounsTrigra</th>\n",
       "      <th>nounsM2</th>\n",
       "      <th>reviews.wordCount</th>\n",
       "      <th>aspect1.len</th>\n",
       "      <th>aspect2.len</th>\n",
       "      <th>...</th>\n",
       "      <th>M1+M2</th>\n",
       "      <th>SeptCol</th>\n",
       "      <th>Pos_Sc</th>\n",
       "      <th>Neg_Sc</th>\n",
       "      <th>PAs</th>\n",
       "      <th>NAs</th>\n",
       "      <th>NeuAs</th>\n",
       "      <th>SCORE</th>\n",
       "      <th>MAGNI</th>\n",
       "      <th>DELI</th>\n",
       "    </tr>\n",
       "  </thead>\n",
       "  <tbody>\n",
       "    <tr>\n",
       "      <th>8262</th>\n",
       "      <td>Purchased Blue unit - parenthesis below is err...</td>\n",
       "      <td>3</td>\n",
       "      <td>AVphgVaX1cnluZ0-DR74</td>\n",
       "      <td>[review, receipt, android, week, display, scre...</td>\n",
       "      <td>[unit, below, correction, bb, edit, bare, netf...</td>\n",
       "      <td>[unit, parenthesis, below, correction, bb, edi...</td>\n",
       "      <td>[apps, someone, android, receipt, bare, screen...</td>\n",
       "      <td>345</td>\n",
       "      <td>44</td>\n",
       "      <td>34</td>\n",
       "      <td>...</td>\n",
       "      <td>[apps, review, receipt, android, week, display...</td>\n",
       "      <td>[3.4754000000000005, -1.7035, 20, 10, 24, 1.52...</td>\n",
       "      <td>3.4754</td>\n",
       "      <td>-1.7035</td>\n",
       "      <td>20</td>\n",
       "      <td>10</td>\n",
       "      <td>24</td>\n",
       "      <td>1.5279</td>\n",
       "      <td>6.2321</td>\n",
       "      <td>1</td>\n",
       "    </tr>\n",
       "    <tr>\n",
       "      <th>8274</th>\n",
       "      <td>Good bare bones tablet for anyone if that is a...</td>\n",
       "      <td>3</td>\n",
       "      <td>AVphgVaX1cnluZ0-DR74</td>\n",
       "      <td>[receipt, android, week, screen, tablet, point...</td>\n",
       "      <td>[bare, netflix, network, amazon, os, android, ...</td>\n",
       "      <td>[performance, amazon, system, device, apps, st...</td>\n",
       "      <td>[apps, someone, android, receipt, bare, netfli...</td>\n",
       "      <td>316</td>\n",
       "      <td>35</td>\n",
       "      <td>26</td>\n",
       "      <td>...</td>\n",
       "      <td>[apps, receipt, android, week, bare, screen, n...</td>\n",
       "      <td>[2.7172, -1.0753000000000001, 20, 4, 24, 1.397...</td>\n",
       "      <td>2.7172</td>\n",
       "      <td>-1.0753</td>\n",
       "      <td>20</td>\n",
       "      <td>4</td>\n",
       "      <td>24</td>\n",
       "      <td>1.3979</td>\n",
       "      <td>4.8457</td>\n",
       "      <td>1</td>\n",
       "    </tr>\n",
       "    <tr>\n",
       "      <th>9047</th>\n",
       "      <td>The biggest drawbacks to this product is the l...</td>\n",
       "      <td>4</td>\n",
       "      <td>AVphgVaX1cnluZ0-DR74</td>\n",
       "      <td>[instruction, experiment, luck, user, product,...</td>\n",
       "      <td>[product, start, pc, luck]</td>\n",
       "      <td>[lack, instructions/user, problem]</td>\n",
       "      <td>[pc, luck, product, problem, start, instructio...</td>\n",
       "      <td>45</td>\n",
       "      <td>13</td>\n",
       "      <td>7</td>\n",
       "      <td>...</td>\n",
       "      <td>[instructions/user, instruction, pc, experimen...</td>\n",
       "      <td>[0.7096, -1.3763999999999998, 1, 7, 2, -0.3268...</td>\n",
       "      <td>0.7096</td>\n",
       "      <td>-1.3764</td>\n",
       "      <td>1</td>\n",
       "      <td>7</td>\n",
       "      <td>2</td>\n",
       "      <td>-0.3268</td>\n",
       "      <td>2.4260</td>\n",
       "      <td>1</td>\n",
       "    </tr>\n",
       "  </tbody>\n",
       "</table>\n",
       "<p>3 rows × 21 columns</p>\n",
       "</div>"
      ],
      "text/plain": [
       "                                           reviews.text  reviews.rating  \\\n",
       "8262  Purchased Blue unit - parenthesis below is err...               3   \n",
       "8274  Good bare bones tablet for anyone if that is a...               3   \n",
       "9047  The biggest drawbacks to this product is the l...               4   \n",
       "\n",
       "                        id                                            nounsM1  \\\n",
       "8262  AVphgVaX1cnluZ0-DR74  [review, receipt, android, week, display, scre...   \n",
       "8274  AVphgVaX1cnluZ0-DR74  [receipt, android, week, screen, tablet, point...   \n",
       "9047  AVphgVaX1cnluZ0-DR74  [instruction, experiment, luck, user, product,...   \n",
       "\n",
       "                                             nounsBigra  \\\n",
       "8262  [unit, below, correction, bb, edit, bare, netf...   \n",
       "8274  [bare, netflix, network, amazon, os, android, ...   \n",
       "9047                         [product, start, pc, luck]   \n",
       "\n",
       "                                            nounsTrigra  \\\n",
       "8262  [unit, parenthesis, below, correction, bb, edi...   \n",
       "8274  [performance, amazon, system, device, apps, st...   \n",
       "9047                 [lack, instructions/user, problem]   \n",
       "\n",
       "                                                nounsM2  reviews.wordCount  \\\n",
       "8262  [apps, someone, android, receipt, bare, screen...                345   \n",
       "8274  [apps, someone, android, receipt, bare, netfli...                316   \n",
       "9047  [pc, luck, product, problem, start, instructio...                 45   \n",
       "\n",
       "      aspect1.len  aspect2.len  ...  \\\n",
       "8262           44           34  ...   \n",
       "8274           35           26  ...   \n",
       "9047           13            7  ...   \n",
       "\n",
       "                                                  M1+M2  \\\n",
       "8262  [apps, review, receipt, android, week, display...   \n",
       "8274  [apps, receipt, android, week, bare, screen, n...   \n",
       "9047  [instructions/user, instruction, pc, experimen...   \n",
       "\n",
       "                                                SeptCol  Pos_Sc  Neg_Sc  PAs  \\\n",
       "8262  [3.4754000000000005, -1.7035, 20, 10, 24, 1.52...  3.4754 -1.7035   20   \n",
       "8274  [2.7172, -1.0753000000000001, 20, 4, 24, 1.397...  2.7172 -1.0753   20   \n",
       "9047  [0.7096, -1.3763999999999998, 1, 7, 2, -0.3268...  0.7096 -1.3764    1   \n",
       "\n",
       "      NAs  NeuAs   SCORE   MAGNI  DELI  \n",
       "8262   10     24  1.5279  6.2321     1  \n",
       "8274    4     24  1.3979  4.8457     1  \n",
       "9047    7      2 -0.3268  2.4260     1  \n",
       "\n",
       "[3 rows x 21 columns]"
      ]
     },
     "execution_count": 76,
     "metadata": {},
     "output_type": "execute_result"
    }
   ],
   "source": [
    "DF[DF['DELI']==1]"
   ]
  },
  {
   "cell_type": "code",
   "execution_count": 77,
   "metadata": {
    "colab": {},
    "colab_type": "code",
    "id": "ZaNFJT1nYiDo"
   },
   "outputs": [],
   "source": [
    "DF['finalAspCount']=DF['PAs']+DF['NAs']+DF['NeuAs']"
   ]
  },
  {
   "cell_type": "code",
   "execution_count": 78,
   "metadata": {
    "colab": {},
    "colab_type": "code",
    "id": "XQIAyB36YiDs",
    "outputId": "8ec56c11-56a3-404a-d1a4-b2974e771d05",
    "scrolled": true
   },
   "outputs": [
    {
     "data": {
      "text/plain": [
       "(10964, 22)"
      ]
     },
     "execution_count": 78,
     "metadata": {},
     "output_type": "execute_result"
    }
   ],
   "source": [
    "DF.shape"
   ]
  },
  {
   "cell_type": "code",
   "execution_count": 79,
   "metadata": {},
   "outputs": [
    {
     "data": {
      "text/html": [
       "<div>\n",
       "<style scoped>\n",
       "    .dataframe tbody tr th:only-of-type {\n",
       "        vertical-align: middle;\n",
       "    }\n",
       "\n",
       "    .dataframe tbody tr th {\n",
       "        vertical-align: top;\n",
       "    }\n",
       "\n",
       "    .dataframe thead th {\n",
       "        text-align: right;\n",
       "    }\n",
       "</style>\n",
       "<table border=\"1\" class=\"dataframe\">\n",
       "  <thead>\n",
       "    <tr style=\"text-align: right;\">\n",
       "      <th></th>\n",
       "      <th>reviews.text</th>\n",
       "      <th>reviews.rating</th>\n",
       "      <th>id</th>\n",
       "      <th>nounsM1</th>\n",
       "      <th>nounsBigra</th>\n",
       "      <th>nounsTrigra</th>\n",
       "      <th>nounsM2</th>\n",
       "      <th>reviews.wordCount</th>\n",
       "      <th>aspect1.len</th>\n",
       "      <th>aspect2.len</th>\n",
       "      <th>...</th>\n",
       "      <th>SeptCol</th>\n",
       "      <th>Pos_Sc</th>\n",
       "      <th>Neg_Sc</th>\n",
       "      <th>PAs</th>\n",
       "      <th>NAs</th>\n",
       "      <th>NeuAs</th>\n",
       "      <th>SCORE</th>\n",
       "      <th>MAGNI</th>\n",
       "      <th>DELI</th>\n",
       "      <th>finalAspCount</th>\n",
       "    </tr>\n",
       "  </thead>\n",
       "  <tbody>\n",
       "    <tr>\n",
       "      <th>0</th>\n",
       "      <td>Good basic tablet for checking email , web bro...</td>\n",
       "      <td>4</td>\n",
       "      <td>AVphgVaX1cnluZ0-DR74</td>\n",
       "      <td>[email, reading, ebook, web, tablet]</td>\n",
       "      <td>[tablet, email]</td>\n",
       "      <td>[tablet, tablet]</td>\n",
       "      <td>[tablet, email]</td>\n",
       "      <td>13</td>\n",
       "      <td>5</td>\n",
       "      <td>2</td>\n",
       "      <td>...</td>\n",
       "      <td>[0.4404, 0, 2, 0, 2, 0.4404, 0.4404, 0]</td>\n",
       "      <td>0.4404</td>\n",
       "      <td>0.0</td>\n",
       "      <td>2</td>\n",
       "      <td>0</td>\n",
       "      <td>2</td>\n",
       "      <td>0.4404</td>\n",
       "      <td>0.4404</td>\n",
       "      <td>0</td>\n",
       "      <td>4</td>\n",
       "    </tr>\n",
       "    <tr>\n",
       "      <th>1</th>\n",
       "      <td>I love this tablet. It was a great buy. I woul...</td>\n",
       "      <td>5</td>\n",
       "      <td>AVphgVaX1cnluZ0-DR74</td>\n",
       "      <td>[buy, love, web, reader, surfing]</td>\n",
       "      <td>[buy, reader]</td>\n",
       "      <td>[tablet, i, web]</td>\n",
       "      <td>[i, buy, web, tablet, reader]</td>\n",
       "      <td>26</td>\n",
       "      <td>5</td>\n",
       "      <td>5</td>\n",
       "      <td>...</td>\n",
       "      <td>[2.3271, 0, 5, 0, 0, 2.8844999999999996, 2.884...</td>\n",
       "      <td>2.3271</td>\n",
       "      <td>0.0</td>\n",
       "      <td>5</td>\n",
       "      <td>0</td>\n",
       "      <td>0</td>\n",
       "      <td>2.8845</td>\n",
       "      <td>2.8845</td>\n",
       "      <td>0</td>\n",
       "      <td>5</td>\n",
       "    </tr>\n",
       "    <tr>\n",
       "      <th>2</th>\n",
       "      <td>Brought my old tablet in to my local store, an...</td>\n",
       "      <td>5</td>\n",
       "      <td>AVphgVaX1cnluZ0-DR74</td>\n",
       "      <td>[use, love, price, tablet, store, firsdt]</td>\n",
       "      <td>[tablet, store, iit, price]</td>\n",
       "      <td>[i, i, tablet, tablet, tablet, price]</td>\n",
       "      <td>[i, price, tablet, store, iit]</td>\n",
       "      <td>46</td>\n",
       "      <td>6</td>\n",
       "      <td>5</td>\n",
       "      <td>...</td>\n",
       "      <td>[0.8122, 0, 2, 0, 6, 1.271, 1.271, 0]</td>\n",
       "      <td>0.8122</td>\n",
       "      <td>0.0</td>\n",
       "      <td>2</td>\n",
       "      <td>0</td>\n",
       "      <td>6</td>\n",
       "      <td>1.2710</td>\n",
       "      <td>1.2710</td>\n",
       "      <td>0</td>\n",
       "      <td>8</td>\n",
       "    </tr>\n",
       "    <tr>\n",
       "      <th>3</th>\n",
       "      <td>Good Inexpensive tablet for someone that does ...</td>\n",
       "      <td>4</td>\n",
       "      <td>AVphgVaX1cnluZ0-DR74</td>\n",
       "      <td>[tablet]</td>\n",
       "      <td>[tablet]</td>\n",
       "      <td>[tablet, someone]</td>\n",
       "      <td>[tablet, someone]</td>\n",
       "      <td>12</td>\n",
       "      <td>1</td>\n",
       "      <td>2</td>\n",
       "      <td>...</td>\n",
       "      <td>[0.4404, 0, 1, 0, 0, 0.4404, 0.4404, 0]</td>\n",
       "      <td>0.4404</td>\n",
       "      <td>0.0</td>\n",
       "      <td>1</td>\n",
       "      <td>0</td>\n",
       "      <td>0</td>\n",
       "      <td>0.4404</td>\n",
       "      <td>0.4404</td>\n",
       "      <td>0</td>\n",
       "      <td>1</td>\n",
       "    </tr>\n",
       "    <tr>\n",
       "      <th>4</th>\n",
       "      <td>I got this for my niece. I would say this prod...</td>\n",
       "      <td>4</td>\n",
       "      <td>AVphgVaX1cnluZ0-DR74</td>\n",
       "      <td>[kid, bank, product, game, play, video, break]</td>\n",
       "      <td>[i, product, product]</td>\n",
       "      <td>[i, product, product, bank]</td>\n",
       "      <td>[i, bank, product]</td>\n",
       "      <td>46</td>\n",
       "      <td>7</td>\n",
       "      <td>3</td>\n",
       "      <td>...</td>\n",
       "      <td>[0.9649000000000001, 0, 2, 0, 3, 0.96490000000...</td>\n",
       "      <td>0.9649</td>\n",
       "      <td>0.0</td>\n",
       "      <td>2</td>\n",
       "      <td>0</td>\n",
       "      <td>3</td>\n",
       "      <td>0.9649</td>\n",
       "      <td>0.9649</td>\n",
       "      <td>0</td>\n",
       "      <td>5</td>\n",
       "    </tr>\n",
       "  </tbody>\n",
       "</table>\n",
       "<p>5 rows × 22 columns</p>\n",
       "</div>"
      ],
      "text/plain": [
       "                                        reviews.text  reviews.rating  \\\n",
       "0  Good basic tablet for checking email , web bro...               4   \n",
       "1  I love this tablet. It was a great buy. I woul...               5   \n",
       "2  Brought my old tablet in to my local store, an...               5   \n",
       "3  Good Inexpensive tablet for someone that does ...               4   \n",
       "4  I got this for my niece. I would say this prod...               4   \n",
       "\n",
       "                     id                                         nounsM1  \\\n",
       "0  AVphgVaX1cnluZ0-DR74            [email, reading, ebook, web, tablet]   \n",
       "1  AVphgVaX1cnluZ0-DR74               [buy, love, web, reader, surfing]   \n",
       "2  AVphgVaX1cnluZ0-DR74       [use, love, price, tablet, store, firsdt]   \n",
       "3  AVphgVaX1cnluZ0-DR74                                        [tablet]   \n",
       "4  AVphgVaX1cnluZ0-DR74  [kid, bank, product, game, play, video, break]   \n",
       "\n",
       "                    nounsBigra                            nounsTrigra  \\\n",
       "0              [tablet, email]                       [tablet, tablet]   \n",
       "1                [buy, reader]                       [tablet, i, web]   \n",
       "2  [tablet, store, iit, price]  [i, i, tablet, tablet, tablet, price]   \n",
       "3                     [tablet]                      [tablet, someone]   \n",
       "4        [i, product, product]            [i, product, product, bank]   \n",
       "\n",
       "                          nounsM2  reviews.wordCount  aspect1.len  \\\n",
       "0                 [tablet, email]                 13            5   \n",
       "1   [i, buy, web, tablet, reader]                 26            5   \n",
       "2  [i, price, tablet, store, iit]                 46            6   \n",
       "3               [tablet, someone]                 12            1   \n",
       "4              [i, bank, product]                 46            7   \n",
       "\n",
       "   aspect2.len  ...                                            SeptCol  \\\n",
       "0            2  ...            [0.4404, 0, 2, 0, 2, 0.4404, 0.4404, 0]   \n",
       "1            5  ...  [2.3271, 0, 5, 0, 0, 2.8844999999999996, 2.884...   \n",
       "2            5  ...              [0.8122, 0, 2, 0, 6, 1.271, 1.271, 0]   \n",
       "3            2  ...            [0.4404, 0, 1, 0, 0, 0.4404, 0.4404, 0]   \n",
       "4            3  ...  [0.9649000000000001, 0, 2, 0, 3, 0.96490000000...   \n",
       "\n",
       "   Pos_Sc Neg_Sc  PAs  NAs  NeuAs   SCORE   MAGNI  DELI  finalAspCount  \n",
       "0  0.4404    0.0    2    0      2  0.4404  0.4404     0              4  \n",
       "1  2.3271    0.0    5    0      0  2.8845  2.8845     0              5  \n",
       "2  0.8122    0.0    2    0      6  1.2710  1.2710     0              8  \n",
       "3  0.4404    0.0    1    0      0  0.4404  0.4404     0              1  \n",
       "4  0.9649    0.0    2    0      3  0.9649  0.9649     0              5  \n",
       "\n",
       "[5 rows x 22 columns]"
      ]
     },
     "execution_count": 79,
     "metadata": {},
     "output_type": "execute_result"
    }
   ],
   "source": [
    "DF.head()"
   ]
  },
  {
   "cell_type": "code",
   "execution_count": 80,
   "metadata": {
    "colab": {},
    "colab_type": "code",
    "id": "aETABSDrYiDv"
   },
   "outputs": [],
   "source": [
    "indexNames = DF[ DF['MAGNI'] == 0 ].index\n",
    " \n",
    "# Delete these row \n",
    "DF.drop(indexNames , inplace=True)"
   ]
  },
  {
   "cell_type": "code",
   "execution_count": 81,
   "metadata": {
    "colab": {},
    "colab_type": "code",
    "id": "scH-vx46YiDz"
   },
   "outputs": [],
   "source": [
    "def ratify(PA,NA,T):\n",
    "    PAR=((PA+NA)/T)*2;\n",
    "    rate=3+PAR\n",
    "    return rate"
   ]
  },
  {
   "cell_type": "code",
   "execution_count": 82,
   "metadata": {
    "colab": {},
    "colab_type": "code",
    "id": "nN0HN0IbYiD3"
   },
   "outputs": [],
   "source": [
    "DF['rate']=DF.apply(lambda x: ratify(x['Pos_Sc'], x['Neg_Sc'],x['MAGNI']), axis=1)"
   ]
  },
  {
   "cell_type": "code",
   "execution_count": 85,
   "metadata": {},
   "outputs": [
    {
     "data": {
      "text/plain": [
       "'This item is a deal at $49. Does everything you need for simple Internet browsing, email, social media and also takes great pictures!'"
      ]
     },
     "execution_count": 85,
     "metadata": {},
     "output_type": "execute_result"
    }
   ],
   "source": [
    "DF['reviews.text'][10947]"
   ]
  },
  {
   "cell_type": "code",
   "execution_count": null,
   "metadata": {
    "colab": {},
    "colab_type": "code",
    "id": "dHAwpZ9CYiD-",
    "outputId": "9c8a951c-9356-4530-f30e-0c0befddd0c5",
    "scrolled": true
   },
   "outputs": [],
   "source": [
    "DF.head(20)"
   ]
  },
  {
   "cell_type": "code",
   "execution_count": null,
   "metadata": {
    "colab": {},
    "colab_type": "code",
    "id": "PD1Jh13zYiEA",
    "outputId": "f2bb1c0d-2810-47e5-a365-2a6da3f831ce"
   },
   "outputs": [],
   "source": [
    "cust_rate=round(DF['reviews.rating'].mean(),2)\n",
    "cust_rate"
   ]
  },
  {
   "cell_type": "code",
   "execution_count": null,
   "metadata": {
    "colab": {},
    "colab_type": "code",
    "id": "dVuyfQsuYiEE",
    "outputId": "152abbcc-4288-4991-f68e-f936d435b1b8"
   },
   "outputs": [],
   "source": [
    "final_rate=round(DF['rate'].mean(),2)\n",
    "final_rate"
   ]
  },
  {
   "cell_type": "code",
   "execution_count": null,
   "metadata": {
    "colab": {},
    "colab_type": "code",
    "id": "FYNJEsFtYiEJ",
    "outputId": "20ab9a25-a939-4b26-e501-438c6ba3e5d2"
   },
   "outputs": [],
   "source": [
    "D=len(DF[DF['DELI']==1])\n",
    "deli=round((D/(DF.shape[0]))*100,2)\n",
    "deli"
   ]
  },
  {
   "cell_type": "code",
   "execution_count": null,
   "metadata": {
    "colab": {},
    "colab_type": "code",
    "id": "GdZQAv1bYiEL"
   },
   "outputs": [],
   "source": [
    "print(cust_rate,file=open(\"C:\\\\Users\\\\shushant.ghosh\\\\MINOR\\\\new_ext_aman-20201104T173217Z-001\\\\new_ext_aman\\\\cust_rate.txt\",\"w\"))"
   ]
  },
  {
   "cell_type": "code",
   "execution_count": null,
   "metadata": {
    "colab": {},
    "colab_type": "code",
    "id": "jTYogJRCYiEO"
   },
   "outputs": [],
   "source": [
    "print(final_rate,file=open(\"C:\\\\Users\\\\shushant.ghosh\\\\MINOR\\\\new_ext_aman-20201104T173217Z-001\\\\new_ext_aman\\\\rev_rate.txt\",\"w\"))"
   ]
  },
  {
   "cell_type": "code",
   "execution_count": null,
   "metadata": {
    "colab": {},
    "colab_type": "code",
    "id": "MjFMS9wKYiEQ"
   },
   "outputs": [],
   "source": [
    "print(deli,file=open(\"C:\\\\Users\\\\shushant.ghosh\\\\MINOR\\\\new_ext_aman-20201104T173217Z-001\\\\new_ext_aman\\\\deli.txt\",\"w\"))"
   ]
  },
  {
   "cell_type": "code",
   "execution_count": null,
   "metadata": {
    "colab": {},
    "colab_type": "code",
    "id": "CCt5eKGvYiEX",
    "outputId": "f50967bf-27ed-4dbf-81d5-04b6939109ed"
   },
   "outputs": [],
   "source": []
  },
  {
   "cell_type": "code",
   "execution_count": null,
   "metadata": {
    "colab": {},
    "colab_type": "code",
    "id": "vj_iVIfDYiEb"
   },
   "outputs": [],
   "source": []
  },
  {
   "cell_type": "code",
   "execution_count": null,
   "metadata": {
    "colab": {},
    "colab_type": "code",
    "id": "4obmQCWOYiEf"
   },
   "outputs": [],
   "source": []
  },
  {
   "cell_type": "code",
   "execution_count": null,
   "metadata": {
    "colab": {},
    "colab_type": "code",
    "id": "52GB33ExYiEi"
   },
   "outputs": [],
   "source": []
  },
  {
   "cell_type": "code",
   "execution_count": null,
   "metadata": {
    "colab": {},
    "colab_type": "code",
    "id": "jbn08O-eYiEj"
   },
   "outputs": [],
   "source": []
  },
  {
   "cell_type": "code",
   "execution_count": null,
   "metadata": {
    "colab": {},
    "colab_type": "code",
    "id": "dIZAUDKeYiEl"
   },
   "outputs": [],
   "source": []
  },
  {
   "cell_type": "code",
   "execution_count": null,
   "metadata": {
    "colab": {},
    "colab_type": "code",
    "id": "6EHpVSc0YiEn"
   },
   "outputs": [],
   "source": []
  }
 ],
 "metadata": {
  "colab": {
   "name": "minor2.ipynb",
   "provenance": []
  },
  "kernelspec": {
   "display_name": "Python 3",
   "language": "python",
   "name": "python3"
  },
  "language_info": {
   "codemirror_mode": {
    "name": "ipython",
    "version": 3
   },
   "file_extension": ".py",
   "mimetype": "text/x-python",
   "name": "python",
   "nbconvert_exporter": "python",
   "pygments_lexer": "ipython3",
   "version": "3.7.6"
  }
 },
 "nbformat": 4,
 "nbformat_minor": 1
}
